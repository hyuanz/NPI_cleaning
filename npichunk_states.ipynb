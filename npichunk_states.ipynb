{
 "cells": [
  {
   "cell_type": "code",
   "execution_count": 2,
   "id": "cd737de5-f69b-46e0-9659-409b543429f5",
   "metadata": {},
   "outputs": [],
   "source": [
    "import pandas as pd\n",
    "import numpy as np\n",
    "import censusgeocode as cg\n",
    "import time\n",
    "from datetime import datetime\n",
    "\n",
    "import geopandas as gpd\n",
    "import os"
   ]
  },
  {
   "cell_type": "code",
   "execution_count": 2,
   "id": "cd07b630-815b-40cb-973b-841bad21f242",
   "metadata": {},
   "outputs": [],
   "source": [
    "from requests.exceptions import ConnectionError"
   ]
  },
  {
   "cell_type": "markdown",
   "id": "35855232-c3aa-469f-9cbe-e9992317ff7d",
   "metadata": {
    "tags": []
   },
   "source": [
    "### Data loading functions"
   ]
  },
  {
   "cell_type": "markdown",
   "id": "f0f6778a-4368-4021-a9f7-329d8a12e094",
   "metadata": {},
   "source": [
    "1. Clinic/Center - Amputee: 261QA0900X\n",
    "2. Orthotist: 222Z00000X\n",
    "3. Prosthetist: 224P00000X\n",
    "4. Prosthetic/Orthotic Supplier:335E00000X"
   ]
  },
  {
   "cell_type": "code",
   "execution_count": 3,
   "id": "141c451e-3d71-48c8-8706-9b977c419c17",
   "metadata": {},
   "outputs": [],
   "source": [
    "keep_col = ['NPI','Entity Type Code','Provider Organization Name (Legal Business Name)',\n",
    "            'NPI Deactivation Reason Code','NPI Deactivation Date','NPI Reactivation Date',\n",
    "            'Provider First Line Business Practice Location Address',\n",
    "            'Provider Business Practice Location Address City Name',\n",
    "            'Provider Business Practice Location Address State Name',\n",
    "            'Provider Business Practice Location Address Postal Code',\n",
    "            'Provider Business Practice Location Address Telephone Number']\n",
    "\n",
    "taxon_codes = ['Healthcare Provider Taxonomy Code_' + str(i+1) for i in range(15)]\n",
    "taxonswitch_codes = ['Healthcare Provider Primary Taxonomy Switch_' + str(i+1) for i in range(15)]\n",
    "keep_col += taxon_codes\n",
    "keep_col += taxonswitch_codes\n",
    "community_pharm = ['261QA0900X','222Z00000X', '224P00000X','335E00000X']\n",
    "npi_csv = 'npidata_pfile_20050523-20230212.csv'\n",
    "\n",
    "def csv_chunks(file,chunk_size,keep_cols,row_sub):\n",
    "    header_fields = list(pd.read_csv(npi_csv, nrows=1))\n",
    "    header_locs = [header_fields.index(i) for i in keep_cols]\n",
    "    skip = 1\n",
    "    it_n = 0\n",
    "    sub_n = 0\n",
    "    ret_chunk = chunk_size\n",
    "    fin_li_dat = []\n",
    "    while ret_chunk == chunk_size:\n",
    "        file_chunk = pd.read_csv(file, usecols=header_locs, skiprows=skip, \n",
    "                     nrows=chunk_size, names=header_fields, dtype='str')\n",
    "        sub_dat = row_sub(file_chunk)\n",
    "        fin_li_dat.append( sub_dat.copy() )\n",
    "        skip += chunk_size\n",
    "        it_n += 1\n",
    "        sub_n += sub_dat.shape[0]\n",
    "        print(f'Grabbed iter {it_n} total sub n so far {sub_n}')\n",
    "        ret_chunk = file_chunk.shape[0]\n",
    "    fin_dat = pd.concat(fin_li_dat, axis=0)\n",
    "    return fin_dat"
   ]
  },
  {
   "cell_type": "markdown",
   "id": "3e147b12-8ec1-432e-917e-63bf538f98eb",
   "metadata": {
    "jp-MarkdownHeadingCollapsed": true,
    "tags": []
   },
   "source": [
    "### Geo spliting functions"
   ]
  },
  {
   "cell_type": "code",
   "execution_count": 4,
   "id": "ae778d91-c5bf-4108-9f19-60443c4b8462",
   "metadata": {},
   "outputs": [],
   "source": [
    "end_str = [' STE', ' SUITE', ' BLDG', ' TOWER', ', #', ' UNIT',\n",
    "           ' APT', ' BUILDING',',', '#']\n",
    "\n",
    "def clean_add(address):\n",
    "    add_new = address.upper()\n",
    "    for su in end_str:\n",
    "        sf = address.find(su)\n",
    "        if sf > -1:\n",
    "            add_new = add_new[0:sf]\n",
    "    add_new = add_new.replace('.','')\n",
    "    add_new = add_new.strip()\n",
    "    return add_new"
   ]
  },
  {
   "cell_type": "code",
   "execution_count": 17,
   "id": "e2c5cc46-e0a4-4228-8bd4-98295a60c405",
   "metadata": {},
   "outputs": [],
   "source": [
    "def split_geo(df, add, city, state, zipcode, chunk_size):\n",
    "    df_new = df.copy()\n",
    "    df_new.reset_index(inplace=True)\n",
    "    splits = np.ceil(df_new.shape[0]/chunk_size)\n",
    "    chunk_li = np.array_split(df_new['index'], splits)\n",
    "    res_li = []\n",
    "    pick_fi = []\n",
    "    for i,c in enumerate(chunk_li):\n",
    "        # Grab data, export to csv\n",
    "        sub_data = df_new.loc[c, ['index',add,city,state,zipcode]]\n",
    "        return sub_data\n",
    "        sub_data.to_csv('temp_geo.csv',header=False,index=False)\n",
    "        # Geo the results and turn back into df\n",
    "        print(f'Geocoding round {int(i)+1} of {int(splits)}, {datetime.now()}')\n",
    "        result = cg.addressbatch('temp_geo.csv')\n",
    "        names = list(result[0].keys())\n",
    "        res_zl = []\n",
    "        for r in result:\n",
    "            res_zl.append(list(r.values()))\n",
    "        res_df = pd.DataFrame(res_zl, columns=names)\n",
    "        res_li.append(res_df.copy())\n",
    "        time.sleep(10) #sleep 10 seconds to not get cutoff from request\n",
    "    final_df = pd.concat(res_li)\n",
    "    final_df.rename(columns={'id':'row'}, inplace=True)\n",
    "    final_df.reset_index(inplace=True, drop=True)\n",
    "    # Clean up csv file\n",
    "    os.remove('temp_geo.csv')\n",
    "    return final_df"
   ]
  },
  {
   "cell_type": "markdown",
   "id": "68f7234c-8dfa-4bc1-baaf-823c4fd56c78",
   "metadata": {
    "jp-MarkdownHeadingCollapsed": true,
    "tags": []
   },
   "source": [
    "### California"
   ]
  },
  {
   "cell_type": "code",
   "execution_count": 5,
   "id": "f531553c-35e3-4441-99bc-6716b9cc1e19",
   "metadata": {},
   "outputs": [
    {
     "name": "stdout",
     "output_type": "stream",
     "text": [
      "2023-04-22 14:31:07.603287\n",
      "Grabbed iter 1 total sub n so far 67\n",
      "Grabbed iter 2 total sub n so far 191\n",
      "Grabbed iter 3 total sub n so far 345\n",
      "Grabbed iter 4 total sub n so far 448\n",
      "Grabbed iter 5 total sub n so far 529\n",
      "Grabbed iter 6 total sub n so far 664\n",
      "Grabbed iter 7 total sub n so far 761\n",
      "Grabbed iter 8 total sub n so far 846\n",
      "2023-04-22 14:33:09.696174\n"
     ]
    }
   ],
   "source": [
    "def sub_rows(data):\n",
    "    ec = data['Entity Type Code'] == \"2\"\n",
    "    st = data['Provider Business Practice Location Address State Name'] == 'CA'\n",
    "    ta = data[taxon_codes].isin(community_pharm).any(axis=1)\n",
    "    ac = data['NPI Deactivation Reason Code'].isna()\n",
    "    all_together = ec & st & ta & ac \n",
    "    sub = data[all_together]\n",
    "    return sub\n",
    "\n",
    "print( datetime.now() )\n",
    "pharm_tx = csv_chunks(npi_csv, chunk_size=1000000, keep_cols=keep_col, row_sub=sub_rows)\n",
    "print( datetime.now() )\n",
    "ph_tx_ca = pharm_tx"
   ]
  },
  {
   "cell_type": "markdown",
   "id": "876ec45c-30b5-4a96-9374-63fb25b24dcb",
   "metadata": {
    "jp-MarkdownHeadingCollapsed": true,
    "tags": []
   },
   "source": [
    "### Arizona"
   ]
  },
  {
   "cell_type": "code",
   "execution_count": 6,
   "id": "891481a2-0948-43ea-aa05-72c57946586f",
   "metadata": {},
   "outputs": [
    {
     "name": "stdout",
     "output_type": "stream",
     "text": [
      "2023-04-22 14:33:09.700057\n",
      "Grabbed iter 1 total sub n so far 7\n",
      "Grabbed iter 2 total sub n so far 35\n",
      "Grabbed iter 3 total sub n so far 52\n",
      "Grabbed iter 4 total sub n so far 77\n",
      "Grabbed iter 5 total sub n so far 101\n",
      "Grabbed iter 6 total sub n so far 142\n",
      "Grabbed iter 7 total sub n so far 178\n",
      "Grabbed iter 8 total sub n so far 202\n",
      "2023-04-22 14:35:17.888237\n"
     ]
    }
   ],
   "source": [
    "def sub_rows(data):\n",
    "    ec = data['Entity Type Code'] == \"2\"\n",
    "    st = data['Provider Business Practice Location Address State Name'] == 'AZ'\n",
    "    ta = data[taxon_codes].isin(community_pharm).any(axis=1)\n",
    "    ac = data['NPI Deactivation Reason Code'].isna()\n",
    "    all_together = ec & st & ta & ac \n",
    "    sub = data[all_together]\n",
    "    return sub\n",
    "\n",
    "print( datetime.now() )\n",
    "pharm_tx = csv_chunks(npi_csv, chunk_size=1000000, keep_cols=keep_col, row_sub=sub_rows)\n",
    "print( datetime.now() )\n",
    "ph_tx_az = pharm_tx"
   ]
  },
  {
   "cell_type": "markdown",
   "id": "3fd1351d-8bb6-4a90-82d7-514e5504b95a",
   "metadata": {
    "jp-MarkdownHeadingCollapsed": true,
    "tags": []
   },
   "source": [
    "### Nevada"
   ]
  },
  {
   "cell_type": "code",
   "execution_count": 7,
   "id": "719b7cc8-ecbd-439b-b031-b20bc9afa219",
   "metadata": {},
   "outputs": [
    {
     "name": "stdout",
     "output_type": "stream",
     "text": [
      "2023-04-22 14:35:17.892054\n",
      "Grabbed iter 1 total sub n so far 4\n",
      "Grabbed iter 2 total sub n so far 18\n",
      "Grabbed iter 3 total sub n so far 28\n",
      "Grabbed iter 4 total sub n so far 36\n",
      "Grabbed iter 5 total sub n so far 46\n",
      "Grabbed iter 6 total sub n so far 62\n",
      "Grabbed iter 7 total sub n so far 78\n",
      "Grabbed iter 8 total sub n so far 102\n",
      "2023-04-22 14:37:29.528111\n"
     ]
    }
   ],
   "source": [
    "def sub_rows(data):\n",
    "    ec = data['Entity Type Code'] == \"2\"\n",
    "    st = data['Provider Business Practice Location Address State Name'] == 'NV'\n",
    "    ta = data[taxon_codes].isin(community_pharm).any(axis=1)\n",
    "    ac = data['NPI Deactivation Reason Code'].isna()\n",
    "    all_together = ec & st & ta & ac \n",
    "    sub = data[all_together]\n",
    "    return sub\n",
    "\n",
    "print( datetime.now() )\n",
    "pharm_tx = csv_chunks(npi_csv, chunk_size=1000000, keep_cols=keep_col, row_sub=sub_rows)\n",
    "print( datetime.now() )\n",
    "\n",
    "ph_tx_nv = pharm_tx"
   ]
  },
  {
   "cell_type": "markdown",
   "id": "4c69053a-e9a8-4e40-9258-f4ada5c7db58",
   "metadata": {
    "jp-MarkdownHeadingCollapsed": true,
    "tags": []
   },
   "source": [
    "### Texas"
   ]
  },
  {
   "cell_type": "code",
   "execution_count": 8,
   "id": "dda810c5-c219-468f-8ea4-ffbbff298f63",
   "metadata": {},
   "outputs": [
    {
     "name": "stdout",
     "output_type": "stream",
     "text": [
      "2023-04-22 14:37:29.532856\n",
      "Grabbed iter 1 total sub n so far 55\n",
      "Grabbed iter 2 total sub n so far 189\n",
      "Grabbed iter 3 total sub n so far 283\n",
      "Grabbed iter 4 total sub n so far 361\n",
      "Grabbed iter 5 total sub n so far 442\n",
      "Grabbed iter 6 total sub n so far 572\n",
      "Grabbed iter 7 total sub n so far 667\n",
      "Grabbed iter 8 total sub n so far 748\n",
      "2023-04-22 14:39:38.061640\n"
     ]
    }
   ],
   "source": [
    "def sub_rows(data):\n",
    "    ec = data['Entity Type Code'] == \"2\"\n",
    "    st = data['Provider Business Practice Location Address State Name'] == 'TX'\n",
    "    ta = data[taxon_codes].isin(community_pharm).any(axis=1)\n",
    "    ac = data['NPI Deactivation Reason Code'].isna()\n",
    "    all_together = ec & st & ta & ac \n",
    "    sub = data[all_together]\n",
    "    return sub\n",
    "\n",
    "print( datetime.now() )\n",
    "pharm_tx = csv_chunks(npi_csv, chunk_size=1000000, keep_cols=keep_col, row_sub=sub_rows)\n",
    "print( datetime.now() )\n",
    "\n",
    "ph_tx_tx = pharm_tx"
   ]
  },
  {
   "cell_type": "markdown",
   "id": "83a99106-9c02-40b0-83b6-369a869cbc95",
   "metadata": {
    "jp-MarkdownHeadingCollapsed": true,
    "tags": []
   },
   "source": [
    "### Washington"
   ]
  },
  {
   "cell_type": "code",
   "execution_count": 9,
   "id": "78925698-697c-476a-be4e-811147c670da",
   "metadata": {},
   "outputs": [
    {
     "name": "stdout",
     "output_type": "stream",
     "text": [
      "2023-04-22 14:39:38.064735\n",
      "Grabbed iter 1 total sub n so far 15\n",
      "Grabbed iter 2 total sub n so far 55\n",
      "Grabbed iter 3 total sub n so far 93\n",
      "Grabbed iter 4 total sub n so far 108\n",
      "Grabbed iter 5 total sub n so far 127\n",
      "Grabbed iter 6 total sub n so far 154\n",
      "Grabbed iter 7 total sub n so far 192\n",
      "Grabbed iter 8 total sub n so far 206\n",
      "2023-04-22 14:41:50.031955\n"
     ]
    }
   ],
   "source": [
    "def sub_rows(data):\n",
    "    ec = data['Entity Type Code'] == \"2\"\n",
    "    st = data['Provider Business Practice Location Address State Name'] == 'WA'\n",
    "    ta = data[taxon_codes].isin(community_pharm).any(axis=1)\n",
    "    ac = data['NPI Deactivation Reason Code'].isna()\n",
    "    all_together = ec & st & ta & ac \n",
    "    sub = data[all_together]\n",
    "    return sub\n",
    "\n",
    "print( datetime.now() )\n",
    "pharm_tx = csv_chunks(npi_csv, chunk_size=1000000, keep_cols=keep_col, row_sub=sub_rows)\n",
    "print( datetime.now() )\n",
    "\n",
    "ph_tx_wa = pharm_tx"
   ]
  },
  {
   "cell_type": "markdown",
   "id": "2b73037b-f316-4ac3-adb1-b2fd4f8a4842",
   "metadata": {
    "jp-MarkdownHeadingCollapsed": true,
    "tags": []
   },
   "source": [
    "### Oregon"
   ]
  },
  {
   "cell_type": "code",
   "execution_count": 10,
   "id": "583c4375-7098-4ed4-8f41-1ca5939d0a31",
   "metadata": {},
   "outputs": [
    {
     "name": "stdout",
     "output_type": "stream",
     "text": [
      "2023-04-22 14:41:50.035190\n",
      "Grabbed iter 1 total sub n so far 3\n",
      "Grabbed iter 2 total sub n so far 22\n",
      "Grabbed iter 3 total sub n so far 47\n",
      "Grabbed iter 4 total sub n so far 62\n",
      "Grabbed iter 5 total sub n so far 78\n",
      "Grabbed iter 6 total sub n so far 90\n",
      "Grabbed iter 7 total sub n so far 113\n",
      "Grabbed iter 8 total sub n so far 124\n",
      "2023-04-22 14:43:59.060028\n"
     ]
    }
   ],
   "source": [
    "def sub_rows(data):\n",
    "    ec = data['Entity Type Code'] == \"2\"\n",
    "    st = data['Provider Business Practice Location Address State Name'] == 'OR'\n",
    "    ta = data[taxon_codes].isin(community_pharm).any(axis=1)\n",
    "    ac = data['NPI Deactivation Reason Code'].isna()\n",
    "    all_together = ec & st & ta & ac \n",
    "    sub = data[all_together]\n",
    "    return sub\n",
    "\n",
    "print( datetime.now() )\n",
    "pharm_tx = csv_chunks(npi_csv, chunk_size=1000000, keep_cols=keep_col, row_sub=sub_rows)\n",
    "print( datetime.now() )\n",
    "\n",
    "ph_tx_or = pharm_tx"
   ]
  },
  {
   "cell_type": "markdown",
   "id": "9ba67cab-19c3-41f8-b5ce-a47caf1b492e",
   "metadata": {
    "jp-MarkdownHeadingCollapsed": true,
    "tags": []
   },
   "source": [
    "### Illinios"
   ]
  },
  {
   "cell_type": "code",
   "execution_count": 11,
   "id": "ad3f464d-6cc3-4449-83a0-1cec012372cb",
   "metadata": {},
   "outputs": [
    {
     "name": "stdout",
     "output_type": "stream",
     "text": [
      "2023-04-22 14:43:59.063375\n",
      "Grabbed iter 1 total sub n so far 29\n",
      "Grabbed iter 2 total sub n so far 82\n",
      "Grabbed iter 3 total sub n so far 114\n",
      "Grabbed iter 4 total sub n so far 137\n",
      "Grabbed iter 5 total sub n so far 190\n",
      "Grabbed iter 6 total sub n so far 263\n",
      "Grabbed iter 7 total sub n so far 329\n",
      "Grabbed iter 8 total sub n so far 352\n",
      "2023-04-22 14:46:07.400974\n"
     ]
    }
   ],
   "source": [
    "def sub_rows(data):\n",
    "    ec = data['Entity Type Code'] == \"2\"\n",
    "    st = data['Provider Business Practice Location Address State Name'] == 'IL'\n",
    "    ta = data[taxon_codes].isin(community_pharm).any(axis=1)\n",
    "    ac = data['NPI Deactivation Reason Code'].isna()\n",
    "    all_together = ec & st & ta & ac \n",
    "    sub = data[all_together]\n",
    "    return sub\n",
    "\n",
    "print( datetime.now() )\n",
    "pharm_tx = csv_chunks(npi_csv, chunk_size=1000000, keep_cols=keep_col, row_sub=sub_rows)\n",
    "print( datetime.now() )\n",
    "\n",
    "ph_tx_il = pharm_tx"
   ]
  },
  {
   "cell_type": "markdown",
   "id": "39044acb-b59b-40c8-a67b-48430f649487",
   "metadata": {
    "jp-MarkdownHeadingCollapsed": true,
    "tags": []
   },
   "source": [
    "### Save csv"
   ]
  },
  {
   "cell_type": "code",
   "execution_count": 12,
   "id": "86f61eac-4fc2-4e2a-a1d1-e5b23c39b05f",
   "metadata": {},
   "outputs": [],
   "source": [
    "ph_tx = pd.concat([ph_tx_ca, ph_tx_az, ph_tx_nv, ph_tx_tx, ph_tx_wa, ph_tx_or, ph_tx_il])"
   ]
  },
  {
   "cell_type": "code",
   "execution_count": 13,
   "id": "109e6730-0c8d-4cb2-b18a-1421b5bfadbf",
   "metadata": {},
   "outputs": [
    {
     "data": {
      "text/plain": [
       "2580"
      ]
     },
     "execution_count": 13,
     "metadata": {},
     "output_type": "execute_result"
    }
   ],
   "source": [
    "len(ph_tx)"
   ]
  },
  {
   "cell_type": "code",
   "execution_count": 14,
   "id": "1c933753-27a5-4150-9f1f-0a8fa1f2cc3e",
   "metadata": {},
   "outputs": [],
   "source": [
    "# ph_tx.to_csv('statesDf.csv',index=False)"
   ]
  },
  {
   "cell_type": "markdown",
   "id": "c168b14f-b8e8-44bf-bae4-c2358d895075",
   "metadata": {
    "jp-MarkdownHeadingCollapsed": true,
    "tags": []
   },
   "source": [
    "### version 2 states"
   ]
  },
  {
   "cell_type": "code",
   "execution_count": 4,
   "id": "62ba6361-f9ac-43f2-a4c9-5305df4f4d40",
   "metadata": {},
   "outputs": [],
   "source": [
    "# ph_txx = pd.read_csv('statesDf.csv')"
   ]
  },
  {
   "cell_type": "markdown",
   "id": "5798ea46-41dd-4225-a126-83514f87814b",
   "metadata": {
    "jp-MarkdownHeadingCollapsed": true,
    "tags": []
   },
   "source": [
    "### New York"
   ]
  },
  {
   "cell_type": "code",
   "execution_count": 10,
   "id": "3806741b-b919-4c84-863d-4bcb46bbccc0",
   "metadata": {},
   "outputs": [
    {
     "name": "stdout",
     "output_type": "stream",
     "text": [
      "2023-05-01 03:28:47.906011\n",
      "Grabbed iter 1 total sub n so far 56\n",
      "Grabbed iter 2 total sub n so far 168\n",
      "Grabbed iter 3 total sub n so far 238\n",
      "Grabbed iter 4 total sub n so far 314\n",
      "Grabbed iter 5 total sub n so far 367\n",
      "Grabbed iter 6 total sub n so far 459\n",
      "Grabbed iter 7 total sub n so far 513\n",
      "Grabbed iter 8 total sub n so far 571\n",
      "2023-05-01 03:30:58.649080\n"
     ]
    }
   ],
   "source": [
    "def sub_rows(data):\n",
    "    ec = data['Entity Type Code'] == \"2\"\n",
    "    st = data['Provider Business Practice Location Address State Name'] == 'NY'\n",
    "    ta = data[taxon_codes].isin(community_pharm).any(axis=1)\n",
    "    ac = data['NPI Deactivation Reason Code'].isna()\n",
    "    all_together = ec & st & ta & ac \n",
    "    sub = data[all_together]\n",
    "    return sub\n",
    "\n",
    "print( datetime.now() )\n",
    "pharm_tx = csv_chunks(npi_csv, chunk_size=1000000, keep_cols=keep_col, row_sub=sub_rows)\n",
    "print( datetime.now() )\n",
    "ph_tx_ny = pharm_tx"
   ]
  },
  {
   "cell_type": "markdown",
   "id": "a6ce29c5-a635-4ad2-9667-2397c83ad5e8",
   "metadata": {
    "jp-MarkdownHeadingCollapsed": true,
    "tags": []
   },
   "source": [
    "### Florida"
   ]
  },
  {
   "cell_type": "code",
   "execution_count": 11,
   "id": "25333de4-d4f2-47cf-b58f-7bf31c4d61ae",
   "metadata": {},
   "outputs": [
    {
     "name": "stdout",
     "output_type": "stream",
     "text": [
      "2023-05-01 03:30:58.652396\n",
      "Grabbed iter 1 total sub n so far 53\n",
      "Grabbed iter 2 total sub n so far 167\n",
      "Grabbed iter 3 total sub n so far 252\n",
      "Grabbed iter 4 total sub n so far 349\n",
      "Grabbed iter 5 total sub n so far 401\n",
      "Grabbed iter 6 total sub n so far 580\n",
      "Grabbed iter 7 total sub n so far 644\n",
      "Grabbed iter 8 total sub n so far 729\n",
      "2023-05-01 03:33:12.308394\n"
     ]
    }
   ],
   "source": [
    "def sub_rows(data):\n",
    "    ec = data['Entity Type Code'] == \"2\"\n",
    "    st = data['Provider Business Practice Location Address State Name'] == 'FL'\n",
    "    ta = data[taxon_codes].isin(community_pharm).any(axis=1)\n",
    "    ac = data['NPI Deactivation Reason Code'].isna()\n",
    "    all_together = ec & st & ta & ac \n",
    "    sub = data[all_together]\n",
    "    return sub\n",
    "\n",
    "print( datetime.now() )\n",
    "pharm_tx = csv_chunks(npi_csv, chunk_size=1000000, keep_cols=keep_col, row_sub=sub_rows)\n",
    "print( datetime.now() )\n",
    "ph_tx_fl = pharm_tx"
   ]
  },
  {
   "cell_type": "markdown",
   "id": "f26ce611-8e12-435b-b30e-e061fbbdee26",
   "metadata": {
    "jp-MarkdownHeadingCollapsed": true,
    "tags": []
   },
   "source": [
    "### Massachusates"
   ]
  },
  {
   "cell_type": "code",
   "execution_count": 12,
   "id": "17e45f05-92a1-4618-97da-059f18c96e67",
   "metadata": {},
   "outputs": [
    {
     "name": "stdout",
     "output_type": "stream",
     "text": [
      "2023-05-01 03:33:12.311955\n",
      "Grabbed iter 1 total sub n so far 26\n",
      "Grabbed iter 2 total sub n so far 66\n",
      "Grabbed iter 3 total sub n so far 83\n",
      "Grabbed iter 4 total sub n so far 96\n",
      "Grabbed iter 5 total sub n so far 115\n",
      "Grabbed iter 6 total sub n so far 145\n",
      "Grabbed iter 7 total sub n so far 163\n",
      "Grabbed iter 8 total sub n so far 170\n",
      "2023-05-01 03:35:24.225522\n"
     ]
    }
   ],
   "source": [
    "def sub_rows(data):\n",
    "    ec = data['Entity Type Code'] == \"2\"\n",
    "    st = data['Provider Business Practice Location Address State Name'] == 'MA'\n",
    "    ta = data[taxon_codes].isin(community_pharm).any(axis=1)\n",
    "    ac = data['NPI Deactivation Reason Code'].isna()\n",
    "    all_together = ec & st & ta & ac \n",
    "    sub = data[all_together]\n",
    "    return sub\n",
    "\n",
    "print( datetime.now() )\n",
    "pharm_tx = csv_chunks(npi_csv, chunk_size=1000000, keep_cols=keep_col, row_sub=sub_rows)\n",
    "print( datetime.now() )\n",
    "ph_tx_ma = pharm_tx"
   ]
  },
  {
   "cell_type": "markdown",
   "id": "55266447-59ba-4bb5-a594-30bb103ff4e1",
   "metadata": {
    "jp-MarkdownHeadingCollapsed": true,
    "tags": []
   },
   "source": [
    "### PA"
   ]
  },
  {
   "cell_type": "code",
   "execution_count": 13,
   "id": "de6a4242-2642-4842-9de9-0a01ae0e60da",
   "metadata": {},
   "outputs": [
    {
     "name": "stdout",
     "output_type": "stream",
     "text": [
      "2023-05-01 03:35:24.230022\n",
      "Grabbed iter 1 total sub n so far 40\n",
      "Grabbed iter 2 total sub n so far 105\n",
      "Grabbed iter 3 total sub n so far 173\n",
      "Grabbed iter 4 total sub n so far 247\n",
      "Grabbed iter 5 total sub n so far 295\n",
      "Grabbed iter 6 total sub n so far 362\n",
      "Grabbed iter 7 total sub n so far 423\n",
      "Grabbed iter 8 total sub n so far 480\n",
      "2023-05-01 03:37:35.468427\n"
     ]
    }
   ],
   "source": [
    "def sub_rows(data):\n",
    "    ec = data['Entity Type Code'] == \"2\"\n",
    "    st = data['Provider Business Practice Location Address State Name'] == 'PA'\n",
    "    ta = data[taxon_codes].isin(community_pharm).any(axis=1)\n",
    "    ac = data['NPI Deactivation Reason Code'].isna()\n",
    "    all_together = ec & st & ta & ac \n",
    "    sub = data[all_together]\n",
    "    return sub\n",
    "\n",
    "print( datetime.now() )\n",
    "pharm_tx = csv_chunks(npi_csv, chunk_size=1000000, keep_cols=keep_col, row_sub=sub_rows)\n",
    "print( datetime.now() )\n",
    "ph_tx_pa = pharm_tx"
   ]
  },
  {
   "cell_type": "markdown",
   "id": "86cf8fd5-76c1-4f88-89b0-627a590cca7e",
   "metadata": {
    "jp-MarkdownHeadingCollapsed": true,
    "tags": []
   },
   "source": [
    "### Ohio"
   ]
  },
  {
   "cell_type": "code",
   "execution_count": 14,
   "id": "ae0e0d12-fe97-4b73-a8b8-63ce76b7c0f9",
   "metadata": {},
   "outputs": [
    {
     "name": "stdout",
     "output_type": "stream",
     "text": [
      "2023-05-01 03:37:35.471603\n",
      "Grabbed iter 1 total sub n so far 30\n",
      "Grabbed iter 2 total sub n so far 118\n",
      "Grabbed iter 3 total sub n so far 173\n",
      "Grabbed iter 4 total sub n so far 220\n",
      "Grabbed iter 5 total sub n so far 252\n",
      "Grabbed iter 6 total sub n so far 343\n",
      "Grabbed iter 7 total sub n so far 392\n",
      "Grabbed iter 8 total sub n so far 413\n",
      "2023-05-01 03:39:40.909724\n"
     ]
    }
   ],
   "source": [
    "def sub_rows(data):\n",
    "    ec = data['Entity Type Code'] == \"2\"\n",
    "    st = data['Provider Business Practice Location Address State Name'] == 'OH'\n",
    "    ta = data[taxon_codes].isin(community_pharm).any(axis=1)\n",
    "    ac = data['NPI Deactivation Reason Code'].isna()\n",
    "    all_together = ec & st & ta & ac \n",
    "    sub = data[all_together]\n",
    "    return sub\n",
    "\n",
    "print( datetime.now() )\n",
    "pharm_tx = csv_chunks(npi_csv, chunk_size=1000000, keep_cols=keep_col, row_sub=sub_rows)\n",
    "print( datetime.now() )\n",
    "ph_tx_oh = pharm_tx"
   ]
  },
  {
   "cell_type": "markdown",
   "id": "2a23ddcb-f93d-4db3-ad18-56a0f8b0ddcc",
   "metadata": {
    "jp-MarkdownHeadingCollapsed": true,
    "tags": []
   },
   "source": [
    "### MI"
   ]
  },
  {
   "cell_type": "code",
   "execution_count": 15,
   "id": "b8b0c936-cb20-40be-8ba3-a35e8539233c",
   "metadata": {},
   "outputs": [
    {
     "name": "stdout",
     "output_type": "stream",
     "text": [
      "2023-05-01 03:39:40.913203\n",
      "Grabbed iter 1 total sub n so far 26\n",
      "Grabbed iter 2 total sub n so far 111\n",
      "Grabbed iter 3 total sub n so far 203\n",
      "Grabbed iter 4 total sub n so far 238\n",
      "Grabbed iter 5 total sub n so far 291\n",
      "Grabbed iter 6 total sub n so far 399\n",
      "Grabbed iter 7 total sub n so far 446\n",
      "Grabbed iter 8 total sub n so far 500\n",
      "2023-05-01 03:41:48.849697\n"
     ]
    }
   ],
   "source": [
    "def sub_rows(data):\n",
    "    ec = data['Entity Type Code'] == \"2\"\n",
    "    st = data['Provider Business Practice Location Address State Name'] == 'MI'\n",
    "    ta = data[taxon_codes].isin(community_pharm).any(axis=1)\n",
    "    ac = data['NPI Deactivation Reason Code'].isna()\n",
    "    all_together = ec & st & ta & ac \n",
    "    sub = data[all_together]\n",
    "    return sub\n",
    "\n",
    "print( datetime.now() )\n",
    "pharm_tx = csv_chunks(npi_csv, chunk_size=1000000, keep_cols=keep_col, row_sub=sub_rows)\n",
    "print( datetime.now() )\n",
    "ph_tx_mi = pharm_tx"
   ]
  },
  {
   "cell_type": "markdown",
   "id": "d95eebd5-270a-485b-9ea1-ee5348c53be9",
   "metadata": {
    "jp-MarkdownHeadingCollapsed": true,
    "tags": []
   },
   "source": [
    "### New dataset"
   ]
  },
  {
   "cell_type": "code",
   "execution_count": 20,
   "id": "696160d5-7b2f-400d-bc99-5a66a6334f42",
   "metadata": {},
   "outputs": [],
   "source": [
    "ph_tx = pd.concat([ph_txx, ph_tx_ny, ph_tx_fl, ph_tx_ma, ph_tx_pa, ph_tx_oh, ph_tx_mi])"
   ]
  },
  {
   "cell_type": "code",
   "execution_count": 23,
   "id": "8381d536-31df-40d1-9af7-698505f1240b",
   "metadata": {},
   "outputs": [
    {
     "data": {
      "text/plain": [
       "5443"
      ]
     },
     "execution_count": 23,
     "metadata": {},
     "output_type": "execute_result"
    }
   ],
   "source": [
    "len(ph_tx)"
   ]
  },
  {
   "cell_type": "markdown",
   "id": "a44d715d-d6fb-421d-a87f-03ade26dd9c5",
   "metadata": {
    "tags": []
   },
   "source": [
    "### Data Cleaning - 1.filter p&o"
   ]
  },
  {
   "cell_type": "code",
   "execution_count": 24,
   "id": "92745c1a-12c7-4707-a81d-f6abc8e7b0d1",
   "metadata": {},
   "outputs": [],
   "source": [
    "# ph_tx = pd.read_csv('statesDf.csv')"
   ]
  },
  {
   "cell_type": "code",
   "execution_count": 25,
   "id": "c3fa5f45-a63a-463e-8626-2646c39ae1ec",
   "metadata": {},
   "outputs": [
    {
     "data": {
      "text/html": [
       "<div>\n",
       "<style scoped>\n",
       "    .dataframe tbody tr th:only-of-type {\n",
       "        vertical-align: middle;\n",
       "    }\n",
       "\n",
       "    .dataframe tbody tr th {\n",
       "        vertical-align: top;\n",
       "    }\n",
       "\n",
       "    .dataframe thead th {\n",
       "        text-align: right;\n",
       "    }\n",
       "</style>\n",
       "<table border=\"1\" class=\"dataframe\">\n",
       "  <thead>\n",
       "    <tr style=\"text-align: right;\">\n",
       "      <th></th>\n",
       "      <th>NPI</th>\n",
       "      <th>Entity Type Code</th>\n",
       "      <th>Provider Organization Name (Legal Business Name)</th>\n",
       "      <th>Provider First Line Business Practice Location Address</th>\n",
       "      <th>City</th>\n",
       "      <th>State2</th>\n",
       "      <th>Provider Business Practice Location Address Postal Code</th>\n",
       "      <th>Provider Business Practice Location Address Telephone Number</th>\n",
       "      <th>NPI Deactivation Reason Code</th>\n",
       "      <th>NPI Deactivation Date</th>\n",
       "      <th>...</th>\n",
       "      <th>Healthcare Provider Taxonomy Code_12</th>\n",
       "      <th>Healthcare Provider Primary Taxonomy Switch_12</th>\n",
       "      <th>Healthcare Provider Taxonomy Code_13</th>\n",
       "      <th>Healthcare Provider Primary Taxonomy Switch_13</th>\n",
       "      <th>Healthcare Provider Taxonomy Code_14</th>\n",
       "      <th>Healthcare Provider Primary Taxonomy Switch_14</th>\n",
       "      <th>Healthcare Provider Taxonomy Code_15</th>\n",
       "      <th>Healthcare Provider Primary Taxonomy Switch_15</th>\n",
       "      <th>Zip5</th>\n",
       "      <th>Address</th>\n",
       "    </tr>\n",
       "  </thead>\n",
       "  <tbody>\n",
       "    <tr>\n",
       "      <th>0</th>\n",
       "      <td>1548468614</td>\n",
       "      <td>2</td>\n",
       "      <td>DIMENSION PROSTHETICS &amp; ORTHOTICS</td>\n",
       "      <td>33374 DOWE AVE</td>\n",
       "      <td>UNION CITY</td>\n",
       "      <td>CA</td>\n",
       "      <td>NaN</td>\n",
       "      <td>5103243400</td>\n",
       "      <td>NaN</td>\n",
       "      <td>NaN</td>\n",
       "      <td>...</td>\n",
       "      <td>NaN</td>\n",
       "      <td>NaN</td>\n",
       "      <td>NaN</td>\n",
       "      <td>NaN</td>\n",
       "      <td>NaN</td>\n",
       "      <td>NaN</td>\n",
       "      <td>NaN</td>\n",
       "      <td>NaN</td>\n",
       "      <td>NaN</td>\n",
       "      <td>33374 DOWE AVE</td>\n",
       "    </tr>\n",
       "    <tr>\n",
       "      <th>1</th>\n",
       "      <td>1952507303</td>\n",
       "      <td>2</td>\n",
       "      <td>SOUND BALANCE AUDIOLOGY, INC</td>\n",
       "      <td>2420 VISTA WAY</td>\n",
       "      <td>OCEANSIDE</td>\n",
       "      <td>CA</td>\n",
       "      <td>NaN</td>\n",
       "      <td>7607217417</td>\n",
       "      <td>NaN</td>\n",
       "      <td>NaN</td>\n",
       "      <td>...</td>\n",
       "      <td>NaN</td>\n",
       "      <td>NaN</td>\n",
       "      <td>NaN</td>\n",
       "      <td>NaN</td>\n",
       "      <td>NaN</td>\n",
       "      <td>NaN</td>\n",
       "      <td>NaN</td>\n",
       "      <td>NaN</td>\n",
       "      <td>NaN</td>\n",
       "      <td>2420 VISTA WAY</td>\n",
       "    </tr>\n",
       "  </tbody>\n",
       "</table>\n",
       "<p>2 rows × 43 columns</p>\n",
       "</div>"
      ],
      "text/plain": [
       "          NPI Entity Type Code  \\\n",
       "0  1548468614                2   \n",
       "1  1952507303                2   \n",
       "\n",
       "  Provider Organization Name (Legal Business Name)  \\\n",
       "0                DIMENSION PROSTHETICS & ORTHOTICS   \n",
       "1                     SOUND BALANCE AUDIOLOGY, INC   \n",
       "\n",
       "  Provider First Line Business Practice Location Address        City State2  \\\n",
       "0                                     33374 DOWE AVE      UNION CITY     CA   \n",
       "1                                     2420 VISTA WAY       OCEANSIDE     CA   \n",
       "\n",
       "  Provider Business Practice Location Address Postal Code  \\\n",
       "0                                                NaN        \n",
       "1                                                NaN        \n",
       "\n",
       "  Provider Business Practice Location Address Telephone Number  \\\n",
       "0                                         5103243400             \n",
       "1                                         7607217417             \n",
       "\n",
       "  NPI Deactivation Reason Code NPI Deactivation Date  ...  \\\n",
       "0                          NaN                   NaN  ...   \n",
       "1                          NaN                   NaN  ...   \n",
       "\n",
       "  Healthcare Provider Taxonomy Code_12  \\\n",
       "0                                  NaN   \n",
       "1                                  NaN   \n",
       "\n",
       "  Healthcare Provider Primary Taxonomy Switch_12  \\\n",
       "0                                            NaN   \n",
       "1                                            NaN   \n",
       "\n",
       "  Healthcare Provider Taxonomy Code_13  \\\n",
       "0                                  NaN   \n",
       "1                                  NaN   \n",
       "\n",
       "  Healthcare Provider Primary Taxonomy Switch_13  \\\n",
       "0                                            NaN   \n",
       "1                                            NaN   \n",
       "\n",
       "  Healthcare Provider Taxonomy Code_14  \\\n",
       "0                                  NaN   \n",
       "1                                  NaN   \n",
       "\n",
       "  Healthcare Provider Primary Taxonomy Switch_14  \\\n",
       "0                                            NaN   \n",
       "1                                            NaN   \n",
       "\n",
       "  Healthcare Provider Taxonomy Code_15  \\\n",
       "0                                  NaN   \n",
       "1                                  NaN   \n",
       "\n",
       "  Healthcare Provider Primary Taxonomy Switch_15 Zip5         Address  \n",
       "0                                            NaN  NaN  33374 DOWE AVE  \n",
       "1                                            NaN  NaN  2420 VISTA WAY  \n",
       "\n",
       "[2 rows x 43 columns]"
      ]
     },
     "execution_count": 25,
     "metadata": {},
     "output_type": "execute_result"
    }
   ],
   "source": [
    "ph_tx['Provider Business Practice Location Address Postal Code'] = ph_tx['Provider Business Practice Location Address Postal Code'].str[0:5]\n",
    "ph_tx['Zip5'] = ph_tx['Provider Business Practice Location Address Postal Code'].str[0:5]\n",
    "ph_tx['Address'] = ph_tx['Provider First Line Business Practice Location Address'].apply(clean_add)\n",
    "\n",
    "ph_tx.rename(columns={'Provider Business Practice Location Address City Name':'City',\n",
    "                      'Provider Business Practice Location Address State Name':'State2'},\n",
    "             inplace=True)\n",
    "ph_tx = ph_tx[-ph_tx['Provider Organization Name (Legal Business Name)'].str.contains(\"NORDSTROM\")].reset_index(drop = True)\n",
    "ph_tx.head(2)"
   ]
  },
  {
   "cell_type": "code",
   "execution_count": 26,
   "id": "0f274519-7e3c-429e-9be7-8ce9859b8dcf",
   "metadata": {},
   "outputs": [],
   "source": [
    "newc = []\n",
    "for n in range(len(ph_tx)):\n",
    "    for i in range(15):\n",
    "        if ph_tx.iloc[n]['Healthcare Provider Primary Taxonomy Switch_' + str(i+1)] == 'Y':\n",
    "            v = ph_tx.iloc[n]['Healthcare Provider Taxonomy Code_' + str(i+1)]\n",
    "    newc.append(v)"
   ]
  },
  {
   "cell_type": "code",
   "execution_count": 27,
   "id": "1edff9d4-f260-4c0d-b1af-3434beabffe2",
   "metadata": {},
   "outputs": [],
   "source": [
    "dec_codes = ['NPI Deactivation Reason Code','NPI Deactivation Date','NPI Reactivation Date']\n",
    "ph_tx = ph_tx.drop(columns=taxon_codes+taxonswitch_codes+dec_codes).reset_index(drop=True)\n",
    "ph_tx['taxonomy'] = newc\n",
    "# ph_tx = ph_tx[ph_tx['taxonomy'].isin(community_pharm)]"
   ]
  },
  {
   "cell_type": "code",
   "execution_count": 28,
   "id": "0cdf2b5e-87ed-4347-8c7c-0511eddca4cb",
   "metadata": {},
   "outputs": [],
   "source": [
    "ph_tx2 = ph_tx[ph_tx['taxonomy'].str.contains(\"261QA0900X\")]"
   ]
  },
  {
   "cell_type": "code",
   "execution_count": 29,
   "id": "8bbd691c-3c10-4f0b-abdc-543f53c2ed17",
   "metadata": {},
   "outputs": [],
   "source": [
    "ph_tx = ph_tx[ph_tx['Provider Organization Name (Legal Business Name)'].str.contains(\"ORTHO|PROS|P&O|LIMB\")].reset_index(drop = True)"
   ]
  },
  {
   "cell_type": "code",
   "execution_count": 30,
   "id": "7f0b3bda-9ce4-4fa2-a485-123ad906448e",
   "metadata": {},
   "outputs": [],
   "source": [
    "# ph_tx2"
   ]
  },
  {
   "cell_type": "code",
   "execution_count": 31,
   "id": "dadc36ae-3d83-4fb0-918b-1bd708e18787",
   "metadata": {},
   "outputs": [
    {
     "data": {
      "text/plain": [
       "2371"
      ]
     },
     "execution_count": 31,
     "metadata": {},
     "output_type": "execute_result"
    }
   ],
   "source": [
    "len(ph_tx)"
   ]
  },
  {
   "cell_type": "code",
   "execution_count": 32,
   "id": "fb0ab248-cec8-45e7-b7af-348419b7b023",
   "metadata": {},
   "outputs": [],
   "source": [
    "ph_tx_3 = pd.concat([ph_tx, ph_tx2]).drop_duplicates()"
   ]
  },
  {
   "cell_type": "code",
   "execution_count": 33,
   "id": "2537cc0e-0d56-4745-9145-6247e74f5fee",
   "metadata": {},
   "outputs": [
    {
     "data": {
      "text/plain": [
       "(2380, 11)"
      ]
     },
     "execution_count": 33,
     "metadata": {},
     "output_type": "execute_result"
    }
   ],
   "source": [
    "ph_tx_3.shape"
   ]
  },
  {
   "cell_type": "code",
   "execution_count": 34,
   "id": "4c90a9ff-8c03-4784-9a7b-2840fe5f3b3d",
   "metadata": {},
   "outputs": [],
   "source": [
    "ph_tx_3 = ph_tx_3.sort_values(by=['State2'])"
   ]
  },
  {
   "cell_type": "code",
   "execution_count": 35,
   "id": "96b901a5-c7d8-431c-9e12-2e0f4c48eec3",
   "metadata": {},
   "outputs": [],
   "source": [
    "ph_tx_3.to_excel('list_states.xlsx',index=False)"
   ]
  },
  {
   "cell_type": "markdown",
   "id": "d8a61119-1915-45fd-949b-8d02cdd8ae33",
   "metadata": {
    "jp-MarkdownHeadingCollapsed": true,
    "tags": []
   },
   "source": [
    "### Data Cleaning - 2.same location"
   ]
  },
  {
   "cell_type": "code",
   "execution_count": 36,
   "id": "3f4a36fe-5073-4668-80f4-763ad7c6e045",
   "metadata": {},
   "outputs": [
    {
     "data": {
      "text/plain": [
       "2380"
      ]
     },
     "execution_count": 36,
     "metadata": {},
     "output_type": "execute_result"
    }
   ],
   "source": [
    "len(ph_tx_3)"
   ]
  },
  {
   "cell_type": "code",
   "execution_count": 37,
   "id": "790fa184-16ca-4b48-8c08-cc7ba4bf5105",
   "metadata": {},
   "outputs": [
    {
     "data": {
      "text/plain": [
       "2206"
      ]
     },
     "execution_count": 37,
     "metadata": {},
     "output_type": "execute_result"
    }
   ],
   "source": [
    "len(ph_tx_3[\"Address\"].unique())"
   ]
  },
  {
   "cell_type": "code",
   "execution_count": 38,
   "id": "85d0dc5f-e94c-4be9-94a2-705421814336",
   "metadata": {},
   "outputs": [],
   "source": [
    "ph_tx_4 = ph_tx_3[~ph_tx_3.duplicated(subset=['Address'], keep=\"last\")].reset_index(drop = True)"
   ]
  },
  {
   "cell_type": "markdown",
   "id": "120c0ce8-8231-4d50-867e-001126d48e44",
   "metadata": {
    "jp-MarkdownHeadingCollapsed": true,
    "tags": []
   },
   "source": [
    "### Geo coding"
   ]
  },
  {
   "cell_type": "code",
   "execution_count": 39,
   "id": "deefcfd7-18fe-4e07-a365-ab4d9d576ccd",
   "metadata": {},
   "outputs": [
    {
     "name": "stdout",
     "output_type": "stream",
     "text": [
      "Geocoding round 1 of 5, 2023-05-01 03:43:07.015001\n",
      "Geocoding round 2 of 5, 2023-05-01 03:43:18.492517\n",
      "Geocoding round 3 of 5, 2023-05-01 03:43:49.099931\n",
      "Geocoding round 4 of 5, 2023-05-01 03:44:06.003275\n",
      "Geocoding round 5 of 5, 2023-05-01 03:44:18.589385\n",
      "True     1955\n",
      "False     251\n",
      "Name: match, dtype: int64\n"
     ]
    }
   ],
   "source": [
    "geo_pharm = split_geo(ph_tx_4, add='Address', city='City', state='State2', zipcode='Zip5', chunk_size=500)\n",
    "print(geo_pharm['match'].value_counts())"
   ]
  },
  {
   "cell_type": "code",
   "execution_count": 40,
   "id": "795d31a0-d7eb-4855-9fba-9dd7742fe995",
   "metadata": {},
   "outputs": [
    {
     "data": {
      "text/html": [
       "<div>\n",
       "<style scoped>\n",
       "    .dataframe tbody tr th:only-of-type {\n",
       "        vertical-align: middle;\n",
       "    }\n",
       "\n",
       "    .dataframe tbody tr th {\n",
       "        vertical-align: top;\n",
       "    }\n",
       "\n",
       "    .dataframe thead th {\n",
       "        text-align: right;\n",
       "    }\n",
       "</style>\n",
       "<table border=\"1\" class=\"dataframe\">\n",
       "  <thead>\n",
       "    <tr style=\"text-align: right;\">\n",
       "      <th></th>\n",
       "      <th>NPI</th>\n",
       "      <th>Name</th>\n",
       "      <th>Telephone</th>\n",
       "      <th>City</th>\n",
       "      <th>State2</th>\n",
       "      <th>Zip5</th>\n",
       "      <th>address</th>\n",
       "      <th>match</th>\n",
       "      <th>lat</th>\n",
       "      <th>lon</th>\n",
       "    </tr>\n",
       "  </thead>\n",
       "  <tbody>\n",
       "    <tr>\n",
       "      <th>0</th>\n",
       "      <td>1225228265</td>\n",
       "      <td>HANGER PROSTHETICS &amp; ORTHOTICS WEST INC</td>\n",
       "      <td>9287759280</td>\n",
       "      <td>PRESCOTT VALLEY</td>\n",
       "      <td>AZ</td>\n",
       "      <td>NaN</td>\n",
       "      <td>3173 N WINDSONG DR, PRESCOTT VALLEY, AZ,</td>\n",
       "      <td>True</td>\n",
       "      <td>34.58709</td>\n",
       "      <td>-112.326802</td>\n",
       "    </tr>\n",
       "    <tr>\n",
       "      <th>1</th>\n",
       "      <td>1477627354</td>\n",
       "      <td>HANGER PROSTHETICS &amp; ORTHOTICS WEST INC</td>\n",
       "      <td>9283411965</td>\n",
       "      <td>YUMA</td>\n",
       "      <td>AZ</td>\n",
       "      <td>NaN</td>\n",
       "      <td>1025 W 24TH ST, YUMA, AZ,</td>\n",
       "      <td>True</td>\n",
       "      <td>32.68395</td>\n",
       "      <td>-114.630890</td>\n",
       "    </tr>\n",
       "  </tbody>\n",
       "</table>\n",
       "</div>"
      ],
      "text/plain": [
       "          NPI                                     Name   Telephone  \\\n",
       "0  1225228265  HANGER PROSTHETICS & ORTHOTICS WEST INC  9287759280   \n",
       "1  1477627354  HANGER PROSTHETICS & ORTHOTICS WEST INC  9283411965   \n",
       "\n",
       "              City State2 Zip5                                    address  \\\n",
       "0  PRESCOTT VALLEY     AZ  NaN  3173 N WINDSONG DR, PRESCOTT VALLEY, AZ,    \n",
       "1             YUMA     AZ  NaN                 1025 W 24TH ST, YUMA, AZ,    \n",
       "\n",
       "   match       lat         lon  \n",
       "0   True  34.58709 -112.326802  \n",
       "1   True  32.68395 -114.630890  "
      ]
     },
     "execution_count": 40,
     "metadata": {},
     "output_type": "execute_result"
    }
   ],
   "source": [
    "geo_pharm['rowN'] = geo_pharm['row'].astype(int)\n",
    "gp2 = geo_pharm.sort_values(by='rowN').reset_index(drop=True)\n",
    "\n",
    "kg = ['address','match','lat','lon']\n",
    "kd = ['NPI',\n",
    "      'Provider Organization Name (Legal Business Name)',\n",
    "      'Provider Business Practice Location Address Telephone Number',\n",
    "      'City','State2','Zip5']\n",
    "final_pharm = pd.concat([ph_tx_4[kd], gp2[kg]], axis=1)\n",
    "\n",
    "final_pharm.rename(columns={'Provider Organization Name (Legal Business Name)':'Name',\n",
    "                      'Provider Business Practice Location Address Telephone Number':'Telephone'}, inplace=True)\n",
    "final_pharm.head(2)"
   ]
  },
  {
   "cell_type": "markdown",
   "id": "1361a53c-d56d-4cbb-ac2b-f288b3632685",
   "metadata": {
    "jp-MarkdownHeadingCollapsed": true,
    "tags": []
   },
   "source": [
    "### Gjson"
   ]
  },
  {
   "cell_type": "code",
   "execution_count": 41,
   "id": "ee47c315-4a29-4cf4-b6e6-26f1042dd0f5",
   "metadata": {},
   "outputs": [
    {
     "data": {
      "text/html": [
       "<div>\n",
       "<style scoped>\n",
       "    .dataframe tbody tr th:only-of-type {\n",
       "        vertical-align: middle;\n",
       "    }\n",
       "\n",
       "    .dataframe tbody tr th {\n",
       "        vertical-align: top;\n",
       "    }\n",
       "\n",
       "    .dataframe thead th {\n",
       "        text-align: right;\n",
       "    }\n",
       "</style>\n",
       "<table border=\"1\" class=\"dataframe\">\n",
       "  <thead>\n",
       "    <tr style=\"text-align: right;\">\n",
       "      <th></th>\n",
       "      <th>NPI</th>\n",
       "      <th>Name</th>\n",
       "      <th>Telephone</th>\n",
       "      <th>City</th>\n",
       "      <th>State2</th>\n",
       "      <th>Zip5</th>\n",
       "      <th>address</th>\n",
       "      <th>match</th>\n",
       "      <th>lat</th>\n",
       "      <th>lon</th>\n",
       "    </tr>\n",
       "  </thead>\n",
       "  <tbody>\n",
       "    <tr>\n",
       "      <th>0</th>\n",
       "      <td>1225228265</td>\n",
       "      <td>HANGER PROSTHETICS &amp; ORTHOTICS WEST INC</td>\n",
       "      <td>9287759280</td>\n",
       "      <td>PRESCOTT VALLEY</td>\n",
       "      <td>AZ</td>\n",
       "      <td>NaN</td>\n",
       "      <td>3173 N WINDSONG DR, PRESCOTT VALLEY, AZ,</td>\n",
       "      <td>True</td>\n",
       "      <td>34.58709</td>\n",
       "      <td>-112.326802</td>\n",
       "    </tr>\n",
       "    <tr>\n",
       "      <th>1</th>\n",
       "      <td>1477627354</td>\n",
       "      <td>HANGER PROSTHETICS &amp; ORTHOTICS WEST INC</td>\n",
       "      <td>9283411965</td>\n",
       "      <td>YUMA</td>\n",
       "      <td>AZ</td>\n",
       "      <td>NaN</td>\n",
       "      <td>1025 W 24TH ST, YUMA, AZ,</td>\n",
       "      <td>True</td>\n",
       "      <td>32.68395</td>\n",
       "      <td>-114.630890</td>\n",
       "    </tr>\n",
       "  </tbody>\n",
       "</table>\n",
       "</div>"
      ],
      "text/plain": [
       "          NPI                                     Name   Telephone  \\\n",
       "0  1225228265  HANGER PROSTHETICS & ORTHOTICS WEST INC  9287759280   \n",
       "1  1477627354  HANGER PROSTHETICS & ORTHOTICS WEST INC  9283411965   \n",
       "\n",
       "              City State2 Zip5                                    address  \\\n",
       "0  PRESCOTT VALLEY     AZ  NaN  3173 N WINDSONG DR, PRESCOTT VALLEY, AZ,    \n",
       "1             YUMA     AZ  NaN                 1025 W 24TH ST, YUMA, AZ,    \n",
       "\n",
       "   match       lat         lon  \n",
       "0   True  34.58709 -112.326802  \n",
       "1   True  32.68395 -114.630890  "
      ]
     },
     "execution_count": 41,
     "metadata": {},
     "output_type": "execute_result"
    }
   ],
   "source": [
    "hosp_data = final_pharm\n",
    "hosp_data = hosp_data[hosp_data['match']].copy()\n",
    "hosp_data.reset_index(inplace=True, drop=True)\n",
    "hosp_data.head(2)"
   ]
  },
  {
   "cell_type": "code",
   "execution_count": 42,
   "id": "9aec9325-8358-44af-b811-cbe319dea806",
   "metadata": {},
   "outputs": [],
   "source": [
    "hosp_geo = gpd.GeoDataFrame(hosp_data, geometry=gpd.points_from_xy(hosp_data.lon, hosp_data.lat), crs=\"EPSG:4326\")"
   ]
  },
  {
   "cell_type": "code",
   "execution_count": 43,
   "id": "140a08fb-b649-4f16-9f5b-dd20b9d92841",
   "metadata": {},
   "outputs": [
    {
     "name": "stdout",
     "output_type": "stream",
     "text": [
      "EPSG:4269\n"
     ]
    }
   ],
   "source": [
    "cali_counties = gpd.read_file(r'tl_2019_us_county/tl_2019_us_county.shp')\n",
    "cali_outline = cali_counties.dissolve('STATEFP')\n",
    "cali_proj = cali_outline.to_crs('EPSG:5070')\n",
    "print(cali_outline.crs)"
   ]
  },
  {
   "cell_type": "code",
   "execution_count": 44,
   "id": "474bf11d-04b1-4309-8139-4ff659eb5e22",
   "metadata": {},
   "outputs": [],
   "source": [
    "def dissolve_buff(point_df,d,resolution):\n",
    "    bu = point_df.buffer(d,resolution)\n",
    "    geodf = gpd.GeoDataFrame(geometry=bu)\n",
    "    geodf['Const'] = 0\n",
    "    single = geodf.dissolve('Const')\n",
    "    return single[['geometry']]"
   ]
  },
  {
   "cell_type": "code",
   "execution_count": 45,
   "id": "5c00012f-c3d6-4edd-8406-d1e8284525af",
   "metadata": {},
   "outputs": [],
   "source": [
    "def dist_cont(point_df,dist_list,outside,buff_res):\n",
    "    if point_df.crs != outside.crs:\n",
    "        print('Point df and Outside df are not the same CRS')\n",
    "        return None\n",
    "    # Making outside area out dissolved object\n",
    "    out_cop = outside[['geometry']].copy()\n",
    "    out_cop['Constant'] = 1\n",
    "    out_cop = out_cop.dissolve('Constant')\n",
    "    # Make sure points are inside area\n",
    "    inside = point_df.within(out_cop['geometry'][1])\n",
    "    point_cop = point_df[inside].copy()\n",
    "    point_cop = point_df.copy()\n",
    "    point_cop['Constant'] = 1 #Constant for dissolve\n",
    "    point_cop = point_cop[['Constant','geometry']].copy()\n",
    "    res_buffers = []\n",
    "    for i,d in enumerate(dist_list):\n",
    "        print(f'Doing buffer {d}')\n",
    "        if i == 0:\n",
    "            res = dissolve_buff(point_cop, d, buff_res)\n",
    "            res_buffers.append(res.copy())\n",
    "        else:\n",
    "            res_new = dissolve_buff(point_cop, d, buff_res)\n",
    "            res_buffonly = gpd.overlay(res_new, res, how='difference')\n",
    "            res = res_new.copy()\n",
    "            res_buffers.append( res_buffonly.copy() )\n",
    "    # Now take the difference with the larger area\n",
    "    print('Working on leftover difference now')\n",
    "    leftover = gpd.overlay(out_cop, res, how='difference')\n",
    "    res_buffers.append(leftover)\n",
    "    for i,d in enumerate(dist_list):\n",
    "        res_buffers[i]['Distance'] = str(d)\n",
    "    res_buffers[-1]['Distance'] = 'Outside'\n",
    "    # New geopandas DF\n",
    "    comb_df = pd.concat(res_buffers)\n",
    "    comb_df.reset_index(inplace=True, drop=True)\n",
    "    return comb_df"
   ]
  },
  {
   "cell_type": "code",
   "execution_count": 46,
   "id": "d051eba8-807f-45ff-a341-08f2ddc77dac",
   "metadata": {},
   "outputs": [
    {
     "name": "stdout",
     "output_type": "stream",
     "text": [
      "Doing buffer 2000\n",
      "Doing buffer 4000\n",
      "Doing buffer 8000\n",
      "Doing buffer 16000\n",
      "Working on leftover difference now\n"
     ]
    }
   ],
   "source": [
    "hos_proj = hosp_geo.to_crs('EPSG:5070') #'epsg:4269'\n",
    "\n",
    "dist_met = [2000, 4000, 8000, 16000] #, 32000\n",
    "buff_city = dist_cont(hos_proj, dist_met, cali_proj, buff_res=100)"
   ]
  },
  {
   "cell_type": "code",
   "execution_count": 47,
   "id": "78ad6526-34f9-4b79-9e32-e839ee04f4cb",
   "metadata": {},
   "outputs": [],
   "source": [
    "#Now making folium plot\n",
    "buff_map = buff_city.to_crs('EPSG:4326')\n",
    "kv = list(hosp_geo)[1:10]"
   ]
  },
  {
   "cell_type": "code",
   "execution_count": 48,
   "id": "eaf98184-a213-400c-8a62-7715076c59a1",
   "metadata": {},
   "outputs": [],
   "source": [
    "#\"fill\": \"#00aa22\",\n",
    "#\"fill-opacity\": 0.5\n",
    "\n",
    "cols = ['#f1eef6',\n",
    "'#d7b5d8',\n",
    "'#df65b0',\n",
    "'#dd1c77',\n",
    "'#980043']\n",
    "\n",
    "buff_map['fill'] = cols\n",
    "buff_map['fill-opacity'] = 0.35\n",
    "\n",
    "#os.chdir(r'D:\\Dropbox\\Dropbox\\PublicCode_Git\\Blog_Code')"
   ]
  },
  {
   "cell_type": "markdown",
   "id": "0d899502-0481-4b66-98a8-26d914db6a47",
   "metadata": {
    "jp-MarkdownHeadingCollapsed": true,
    "tags": []
   },
   "source": [
    "### Save gjson"
   ]
  },
  {
   "cell_type": "code",
   "execution_count": 49,
   "id": "a1dcb346-cb2c-4589-a86d-0d6b1b010fbc",
   "metadata": {},
   "outputs": [],
   "source": [
    "buff_map.to_file('Buffers_States.geojson', driver='GeoJSON')\n",
    "hosp_geo.to_file('Hosp_States.geojson', driver='GeoJSON')"
   ]
  },
  {
   "cell_type": "code",
   "execution_count": null,
   "id": "1f891af4-e784-4034-850b-11ed35cf4a80",
   "metadata": {},
   "outputs": [],
   "source": []
  },
  {
   "cell_type": "code",
   "execution_count": null,
   "id": "d778ff95-81c2-417f-8a9e-f0a46dc2f44c",
   "metadata": {},
   "outputs": [],
   "source": []
  },
  {
   "cell_type": "markdown",
   "id": "147b4f72-38e1-45df-9bc8-3e52bee2ca61",
   "metadata": {},
   "source": [
    "### Combined"
   ]
  },
  {
   "cell_type": "code",
   "execution_count": 56,
   "id": "48a24a6d-5bae-44bd-b5c5-f3b9782088cc",
   "metadata": {},
   "outputs": [],
   "source": [
    "states = (\"AL\",\"AK\",\"AZ\",\"AR\",\"CA\",\"CO\",\"CT\",\"DE\",\"DC\",\"FL\",\"GA\",\"HI\",\"ID\",\n",
    "          \"IL\",\"IN\",\"IA\",\"KS\",\"KY\",\"LA\",\"ME\",\"MD\",\"MA\",\"MI\",\"MN\",\"MS\",\"MO\",\n",
    "          \"MT\",\"NE\",\"NV\",\"NH\",\"NJ\",\"NM\",\"NY\",\"NC\",\"ND\",\"OH\",\"OK\",\"OR\",\"PA\",\n",
    "          \"RI\",\"SC\",\"SD\",\"TN\",\"TX\",\"UT\",\"VT\",\"VA\",\"WA\",\"WV\",\"WI\",\"WY\")"
   ]
  },
  {
   "cell_type": "code",
   "execution_count": 57,
   "id": "efa0ee3e-35a9-40b9-a65f-80ddb6b08e69",
   "metadata": {},
   "outputs": [],
   "source": [
    "def sub_rows(data, state):\n",
    "    ec = data['Entity Type Code'] == \"2\"\n",
    "    st = data['Provider Business Practice Location Address State Name'] == state\n",
    "    ta = data[taxon_codes].isin(community_pharm).any(axis=1)\n",
    "    ac = data['NPI Deactivation Reason Code'].isna()\n",
    "    all_together = ec & st & ta & ac \n",
    "    sub = data[all_together]\n",
    "    return sub\n",
    "\n",
    "def csv_chunks(file,chunk_size,keep_cols,state,row_sub):\n",
    "    header_fields = list(pd.read_csv(npi_csv, nrows=1))\n",
    "    header_locs = [header_fields.index(i) for i in keep_cols]\n",
    "    skip = 1\n",
    "    it_n = 0\n",
    "    sub_n = 0\n",
    "    ret_chunk = chunk_size\n",
    "    fin_li_dat = []\n",
    "    while ret_chunk == chunk_size:\n",
    "        file_chunk = pd.read_csv(file, usecols=header_locs, skiprows=skip, \n",
    "                     nrows=chunk_size, names=header_fields, dtype='str')\n",
    "        sub_dat = row_sub(file_chunk, state)\n",
    "        fin_li_dat.append( sub_dat.copy() )\n",
    "        skip += chunk_size\n",
    "        it_n += 1\n",
    "        sub_n += sub_dat.shape[0]\n",
    "        print(f'Grabbed iter {it_n} total sub n so far {sub_n}')\n",
    "        ret_chunk = file_chunk.shape[0]\n",
    "    fin_dat = pd.concat(fin_li_dat, axis=0)\n",
    "    return fin_dat"
   ]
  },
  {
   "cell_type": "code",
   "execution_count": 63,
   "id": "ee4aee76-9b5b-4ebc-932c-f881cb4ea123",
   "metadata": {},
   "outputs": [],
   "source": [
    "ph_txs = pd.DataFrame()"
   ]
  },
  {
   "cell_type": "code",
   "execution_count": 81,
   "id": "6e579bc2-607f-4de2-bcf4-02cf5a99d6ab",
   "metadata": {
    "collapsed": true,
    "jupyter": {
     "outputs_hidden": true
    },
    "tags": []
   },
   "outputs": [
    {
     "name": "stdout",
     "output_type": "stream",
     "text": [
      "AL\n",
      "2023-05-01 04:41:56.244558\n",
      "Grabbed iter 1 total sub n so far 6\n",
      "Grabbed iter 2 total sub n so far 36\n",
      "Grabbed iter 3 total sub n so far 65\n",
      "Grabbed iter 4 total sub n so far 86\n",
      "Grabbed iter 5 total sub n so far 97\n",
      "Grabbed iter 6 total sub n so far 125\n",
      "Grabbed iter 7 total sub n so far 152\n",
      "Grabbed iter 8 total sub n so far 163\n",
      "2023-05-01 04:43:58.082195\n",
      "AK\n",
      "2023-05-01 04:43:58.082253\n",
      "Grabbed iter 1 total sub n so far 2\n",
      "Grabbed iter 2 total sub n so far 6\n",
      "Grabbed iter 3 total sub n so far 11\n",
      "Grabbed iter 4 total sub n so far 11\n",
      "Grabbed iter 5 total sub n so far 11\n",
      "Grabbed iter 6 total sub n so far 13\n",
      "Grabbed iter 7 total sub n so far 17\n",
      "Grabbed iter 8 total sub n so far 17\n",
      "2023-05-01 04:46:02.169932\n",
      "AZ\n",
      "2023-05-01 04:46:02.169959\n",
      "Grabbed iter 1 total sub n so far 7\n",
      "Grabbed iter 2 total sub n so far 35\n",
      "Grabbed iter 3 total sub n so far 52\n",
      "Grabbed iter 4 total sub n so far 77\n",
      "Grabbed iter 5 total sub n so far 101\n",
      "Grabbed iter 6 total sub n so far 142\n",
      "Grabbed iter 7 total sub n so far 178\n",
      "Grabbed iter 8 total sub n so far 202\n",
      "2023-05-01 04:48:04.965715\n",
      "AR\n",
      "2023-05-01 04:48:04.965774\n",
      "Grabbed iter 1 total sub n so far 9\n",
      "Grabbed iter 2 total sub n so far 18\n",
      "Grabbed iter 3 total sub n so far 28\n",
      "Grabbed iter 4 total sub n so far 34\n",
      "Grabbed iter 5 total sub n so far 56\n",
      "Grabbed iter 6 total sub n so far 83\n",
      "Grabbed iter 7 total sub n so far 96\n",
      "Grabbed iter 8 total sub n so far 104\n",
      "2023-05-01 04:50:10.641507\n",
      "CA\n",
      "2023-05-01 04:50:10.641553\n",
      "Grabbed iter 1 total sub n so far 67\n",
      "Grabbed iter 2 total sub n so far 191\n",
      "Grabbed iter 3 total sub n so far 345\n",
      "Grabbed iter 4 total sub n so far 448\n",
      "Grabbed iter 5 total sub n so far 529\n",
      "Grabbed iter 6 total sub n so far 664\n",
      "Grabbed iter 7 total sub n so far 761\n",
      "Grabbed iter 8 total sub n so far 846\n",
      "2023-05-01 04:52:13.764072\n",
      "CO\n",
      "2023-05-01 04:52:13.764102\n",
      "Grabbed iter 1 total sub n so far 10\n",
      "Grabbed iter 2 total sub n so far 28\n",
      "Grabbed iter 3 total sub n so far 54\n",
      "Grabbed iter 4 total sub n so far 71\n",
      "Grabbed iter 5 total sub n so far 98\n",
      "Grabbed iter 6 total sub n so far 146\n",
      "Grabbed iter 7 total sub n so far 165\n",
      "Grabbed iter 8 total sub n so far 173\n",
      "2023-05-01 04:54:13.778201\n",
      "CT\n",
      "2023-05-01 04:54:13.778224\n",
      "Grabbed iter 1 total sub n so far 17\n",
      "Grabbed iter 2 total sub n so far 39\n",
      "Grabbed iter 3 total sub n so far 63\n",
      "Grabbed iter 4 total sub n so far 85\n",
      "Grabbed iter 5 total sub n so far 99\n",
      "Grabbed iter 6 total sub n so far 127\n",
      "Grabbed iter 7 total sub n so far 145\n",
      "Grabbed iter 8 total sub n so far 152\n",
      "2023-05-01 04:56:14.712069\n",
      "DE\n",
      "2023-05-01 04:56:14.712093\n",
      "Grabbed iter 1 total sub n so far 1\n",
      "Grabbed iter 2 total sub n so far 6\n",
      "Grabbed iter 3 total sub n so far 9\n",
      "Grabbed iter 4 total sub n so far 10\n",
      "Grabbed iter 5 total sub n so far 15\n",
      "Grabbed iter 6 total sub n so far 19\n",
      "Grabbed iter 7 total sub n so far 29\n",
      "Grabbed iter 8 total sub n so far 29\n",
      "2023-05-01 04:58:15.669353\n",
      "DC\n",
      "2023-05-01 04:58:15.669388\n",
      "Grabbed iter 1 total sub n so far 3\n",
      "Grabbed iter 2 total sub n so far 3\n",
      "Grabbed iter 3 total sub n so far 4\n",
      "Grabbed iter 4 total sub n so far 5\n",
      "Grabbed iter 5 total sub n so far 7\n",
      "Grabbed iter 6 total sub n so far 9\n",
      "Grabbed iter 7 total sub n so far 11\n",
      "Grabbed iter 8 total sub n so far 13\n",
      "2023-05-01 05:00:17.006634\n",
      "FL\n",
      "2023-05-01 05:00:17.006652\n",
      "Grabbed iter 1 total sub n so far 53\n",
      "Grabbed iter 2 total sub n so far 167\n",
      "Grabbed iter 3 total sub n so far 252\n",
      "Grabbed iter 4 total sub n so far 349\n",
      "Grabbed iter 5 total sub n so far 401\n",
      "Grabbed iter 6 total sub n so far 580\n",
      "Grabbed iter 7 total sub n so far 644\n",
      "Grabbed iter 8 total sub n so far 729\n",
      "2023-05-01 05:02:17.685936\n",
      "GA\n",
      "2023-05-01 05:02:17.685960\n",
      "Grabbed iter 1 total sub n so far 30\n",
      "Grabbed iter 2 total sub n so far 94\n",
      "Grabbed iter 3 total sub n so far 142\n",
      "Grabbed iter 4 total sub n so far 191\n",
      "Grabbed iter 5 total sub n so far 227\n",
      "Grabbed iter 6 total sub n so far 296\n",
      "Grabbed iter 7 total sub n so far 339\n",
      "Grabbed iter 8 total sub n so far 371\n",
      "2023-05-01 05:04:19.291701\n",
      "HI\n",
      "2023-05-01 05:04:19.291721\n",
      "Grabbed iter 1 total sub n so far 4\n",
      "Grabbed iter 2 total sub n so far 6\n",
      "Grabbed iter 3 total sub n so far 10\n",
      "Grabbed iter 4 total sub n so far 12\n",
      "Grabbed iter 5 total sub n so far 15\n",
      "Grabbed iter 6 total sub n so far 20\n",
      "Grabbed iter 7 total sub n so far 21\n",
      "Grabbed iter 8 total sub n so far 25\n",
      "2023-05-01 05:06:19.216907\n",
      "ID\n",
      "2023-05-01 05:06:19.216966\n",
      "Grabbed iter 1 total sub n so far 1\n",
      "Grabbed iter 2 total sub n so far 13\n",
      "Grabbed iter 3 total sub n so far 21\n",
      "Grabbed iter 4 total sub n so far 32\n",
      "Grabbed iter 5 total sub n so far 44\n",
      "Grabbed iter 6 total sub n so far 56\n",
      "Grabbed iter 7 total sub n so far 73\n",
      "Grabbed iter 8 total sub n so far 74\n",
      "2023-05-01 05:08:19.515423\n",
      "IL\n",
      "2023-05-01 05:08:19.515445\n",
      "Grabbed iter 1 total sub n so far 29\n",
      "Grabbed iter 2 total sub n so far 82\n",
      "Grabbed iter 3 total sub n so far 114\n",
      "Grabbed iter 4 total sub n so far 137\n",
      "Grabbed iter 5 total sub n so far 190\n",
      "Grabbed iter 6 total sub n so far 263\n",
      "Grabbed iter 7 total sub n so far 329\n",
      "Grabbed iter 8 total sub n so far 352\n",
      "2023-05-01 05:10:20.649691\n",
      "IN\n",
      "2023-05-01 05:10:20.649714\n",
      "Grabbed iter 1 total sub n so far 9\n",
      "Grabbed iter 2 total sub n so far 36\n",
      "Grabbed iter 3 total sub n so far 60\n",
      "Grabbed iter 4 total sub n so far 84\n",
      "Grabbed iter 5 total sub n so far 123\n",
      "Grabbed iter 6 total sub n so far 160\n",
      "Grabbed iter 7 total sub n so far 185\n",
      "Grabbed iter 8 total sub n so far 209\n",
      "2023-05-01 05:12:21.161729\n",
      "IA\n",
      "2023-05-01 05:12:21.161748\n",
      "Grabbed iter 1 total sub n so far 4\n",
      "Grabbed iter 2 total sub n so far 22\n",
      "Grabbed iter 3 total sub n so far 36\n",
      "Grabbed iter 4 total sub n so far 47\n",
      "Grabbed iter 5 total sub n so far 63\n",
      "Grabbed iter 6 total sub n so far 74\n",
      "Grabbed iter 7 total sub n so far 81\n",
      "Grabbed iter 8 total sub n so far 93\n",
      "2023-05-01 05:14:21.640838\n",
      "KS\n",
      "2023-05-01 05:14:21.640857\n",
      "Grabbed iter 1 total sub n so far 6\n",
      "Grabbed iter 2 total sub n so far 21\n",
      "Grabbed iter 3 total sub n so far 30\n",
      "Grabbed iter 4 total sub n so far 39\n",
      "Grabbed iter 5 total sub n so far 52\n",
      "Grabbed iter 6 total sub n so far 75\n",
      "Grabbed iter 7 total sub n so far 86\n",
      "Grabbed iter 8 total sub n so far 90\n",
      "2023-05-01 05:16:21.348196\n",
      "KY\n",
      "2023-05-01 05:16:21.348218\n",
      "Grabbed iter 1 total sub n so far 15\n",
      "Grabbed iter 2 total sub n so far 39\n",
      "Grabbed iter 3 total sub n so far 58\n",
      "Grabbed iter 4 total sub n so far 70\n",
      "Grabbed iter 5 total sub n so far 91\n",
      "Grabbed iter 6 total sub n so far 119\n",
      "Grabbed iter 7 total sub n so far 149\n",
      "Grabbed iter 8 total sub n so far 176\n",
      "2023-05-01 05:18:21.491555\n",
      "LA\n",
      "2023-05-01 05:18:21.491574\n",
      "Grabbed iter 1 total sub n so far 14\n",
      "Grabbed iter 2 total sub n so far 40\n",
      "Grabbed iter 3 total sub n so far 69\n",
      "Grabbed iter 4 total sub n so far 88\n",
      "Grabbed iter 5 total sub n so far 112\n",
      "Grabbed iter 6 total sub n so far 154\n",
      "Grabbed iter 7 total sub n so far 170\n",
      "Grabbed iter 8 total sub n so far 193\n",
      "2023-05-01 05:20:21.180645\n",
      "ME\n",
      "2023-05-01 05:20:21.180668\n",
      "Grabbed iter 1 total sub n so far 5\n",
      "Grabbed iter 2 total sub n so far 18\n",
      "Grabbed iter 3 total sub n so far 24\n",
      "Grabbed iter 4 total sub n so far 30\n",
      "Grabbed iter 5 total sub n so far 35\n",
      "Grabbed iter 6 total sub n so far 46\n",
      "Grabbed iter 7 total sub n so far 53\n",
      "Grabbed iter 8 total sub n so far 57\n",
      "2023-05-01 05:22:20.721426\n",
      "MD\n",
      "2023-05-01 05:22:20.721449\n",
      "Grabbed iter 1 total sub n so far 25\n",
      "Grabbed iter 2 total sub n so far 60\n",
      "Grabbed iter 3 total sub n so far 90\n",
      "Grabbed iter 4 total sub n so far 113\n",
      "Grabbed iter 5 total sub n so far 133\n",
      "Grabbed iter 6 total sub n so far 167\n",
      "Grabbed iter 7 total sub n so far 196\n",
      "Grabbed iter 8 total sub n so far 219\n",
      "2023-05-01 05:24:20.913904\n",
      "MA\n",
      "2023-05-01 05:24:20.913928\n",
      "Grabbed iter 1 total sub n so far 26\n",
      "Grabbed iter 2 total sub n so far 66\n",
      "Grabbed iter 3 total sub n so far 83\n",
      "Grabbed iter 4 total sub n so far 96\n",
      "Grabbed iter 5 total sub n so far 115\n",
      "Grabbed iter 6 total sub n so far 145\n",
      "Grabbed iter 7 total sub n so far 163\n",
      "Grabbed iter 8 total sub n so far 170\n",
      "2023-05-01 05:26:21.139417\n",
      "MI\n",
      "2023-05-01 05:26:21.139449\n",
      "Grabbed iter 1 total sub n so far 26\n",
      "Grabbed iter 2 total sub n so far 111\n",
      "Grabbed iter 3 total sub n so far 203\n",
      "Grabbed iter 4 total sub n so far 238\n",
      "Grabbed iter 5 total sub n so far 291\n",
      "Grabbed iter 6 total sub n so far 399\n",
      "Grabbed iter 7 total sub n so far 446\n",
      "Grabbed iter 8 total sub n so far 500\n",
      "2023-05-01 05:28:22.025961\n",
      "MN\n",
      "2023-05-01 05:28:22.025984\n",
      "Grabbed iter 1 total sub n so far 12\n",
      "Grabbed iter 2 total sub n so far 31\n",
      "Grabbed iter 3 total sub n so far 57\n",
      "Grabbed iter 4 total sub n so far 74\n",
      "Grabbed iter 5 total sub n so far 107\n",
      "Grabbed iter 6 total sub n so far 127\n",
      "Grabbed iter 7 total sub n so far 140\n",
      "Grabbed iter 8 total sub n so far 150\n",
      "2023-05-01 05:30:22.308271\n",
      "MS\n",
      "2023-05-01 05:30:22.308303\n",
      "Grabbed iter 1 total sub n so far 10\n",
      "Grabbed iter 2 total sub n so far 24\n",
      "Grabbed iter 3 total sub n so far 45\n",
      "Grabbed iter 4 total sub n so far 55\n",
      "Grabbed iter 5 total sub n so far 68\n",
      "Grabbed iter 6 total sub n so far 101\n",
      "Grabbed iter 7 total sub n so far 119\n",
      "Grabbed iter 8 total sub n so far 130\n",
      "2023-05-01 05:32:22.774367\n",
      "MO\n",
      "2023-05-01 05:32:22.774403\n",
      "Grabbed iter 1 total sub n so far 15\n",
      "Grabbed iter 2 total sub n so far 48\n",
      "Grabbed iter 3 total sub n so far 74\n",
      "Grabbed iter 4 total sub n so far 96\n",
      "Grabbed iter 5 total sub n so far 125\n",
      "Grabbed iter 6 total sub n so far 185\n",
      "Grabbed iter 7 total sub n so far 210\n",
      "Grabbed iter 8 total sub n so far 224\n",
      "2023-05-01 05:34:22.080571\n",
      "MT\n",
      "2023-05-01 05:34:22.080608\n",
      "Grabbed iter 1 total sub n so far 0\n",
      "Grabbed iter 2 total sub n so far 5\n",
      "Grabbed iter 3 total sub n so far 10\n",
      "Grabbed iter 4 total sub n so far 13\n",
      "Grabbed iter 5 total sub n so far 18\n",
      "Grabbed iter 6 total sub n so far 24\n",
      "Grabbed iter 7 total sub n so far 37\n",
      "Grabbed iter 8 total sub n so far 43\n",
      "2023-05-01 05:36:22.311797\n",
      "NE\n",
      "2023-05-01 05:36:22.311828\n",
      "Grabbed iter 1 total sub n so far 7\n",
      "Grabbed iter 2 total sub n so far 19\n",
      "Grabbed iter 3 total sub n so far 30\n",
      "Grabbed iter 4 total sub n so far 36\n",
      "Grabbed iter 5 total sub n so far 40\n",
      "Grabbed iter 6 total sub n so far 56\n",
      "Grabbed iter 7 total sub n so far 61\n",
      "Grabbed iter 8 total sub n so far 70\n",
      "2023-05-01 05:38:21.519578\n",
      "NV\n",
      "2023-05-01 05:38:21.519597\n",
      "Grabbed iter 1 total sub n so far 4\n",
      "Grabbed iter 2 total sub n so far 18\n",
      "Grabbed iter 3 total sub n so far 28\n",
      "Grabbed iter 4 total sub n so far 36\n",
      "Grabbed iter 5 total sub n so far 46\n",
      "Grabbed iter 6 total sub n so far 62\n",
      "Grabbed iter 7 total sub n so far 78\n",
      "Grabbed iter 8 total sub n so far 102\n",
      "2023-05-01 05:40:19.957304\n",
      "NH\n",
      "2023-05-01 05:40:19.957324\n",
      "Grabbed iter 1 total sub n so far 4\n",
      "Grabbed iter 2 total sub n so far 16\n",
      "Grabbed iter 3 total sub n so far 24\n",
      "Grabbed iter 4 total sub n so far 27\n",
      "Grabbed iter 5 total sub n so far 34\n",
      "Grabbed iter 6 total sub n so far 39\n",
      "Grabbed iter 7 total sub n so far 42\n",
      "Grabbed iter 8 total sub n so far 44\n",
      "2023-05-01 05:42:18.394566\n",
      "NJ\n",
      "2023-05-01 05:42:18.394585\n",
      "Grabbed iter 1 total sub n so far 20\n",
      "Grabbed iter 2 total sub n so far 68\n",
      "Grabbed iter 3 total sub n so far 130\n",
      "Grabbed iter 4 total sub n so far 159\n",
      "Grabbed iter 5 total sub n so far 184\n",
      "Grabbed iter 6 total sub n so far 232\n",
      "Grabbed iter 7 total sub n so far 257\n",
      "Grabbed iter 8 total sub n so far 278\n",
      "2023-05-01 05:44:16.752872\n",
      "NM\n",
      "2023-05-01 05:44:16.752892\n",
      "Grabbed iter 1 total sub n so far 1\n",
      "Grabbed iter 2 total sub n so far 12\n",
      "Grabbed iter 3 total sub n so far 17\n",
      "Grabbed iter 4 total sub n so far 23\n",
      "Grabbed iter 5 total sub n so far 38\n",
      "Grabbed iter 6 total sub n so far 49\n",
      "Grabbed iter 7 total sub n so far 50\n",
      "Grabbed iter 8 total sub n so far 56\n",
      "2023-05-01 05:46:15.502582\n",
      "NY\n",
      "2023-05-01 05:46:15.502602\n",
      "Grabbed iter 1 total sub n so far 56\n",
      "Grabbed iter 2 total sub n so far 168\n",
      "Grabbed iter 3 total sub n so far 238\n",
      "Grabbed iter 4 total sub n so far 314\n",
      "Grabbed iter 5 total sub n so far 367\n",
      "Grabbed iter 6 total sub n so far 459\n",
      "Grabbed iter 7 total sub n so far 513\n",
      "Grabbed iter 8 total sub n so far 571\n",
      "2023-05-01 05:48:14.697647\n",
      "NC\n",
      "2023-05-01 05:48:14.697670\n",
      "Grabbed iter 1 total sub n so far 21\n",
      "Grabbed iter 2 total sub n so far 77\n",
      "Grabbed iter 3 total sub n so far 136\n",
      "Grabbed iter 4 total sub n so far 182\n",
      "Grabbed iter 5 total sub n so far 231\n",
      "Grabbed iter 6 total sub n so far 308\n",
      "Grabbed iter 7 total sub n so far 360\n",
      "Grabbed iter 8 total sub n so far 420\n",
      "2023-05-01 05:50:13.414057\n",
      "ND\n",
      "2023-05-01 05:50:13.414076\n",
      "Grabbed iter 1 total sub n so far 0\n",
      "Grabbed iter 2 total sub n so far 2\n",
      "Grabbed iter 3 total sub n so far 3\n",
      "Grabbed iter 4 total sub n so far 4\n",
      "Grabbed iter 5 total sub n so far 5\n",
      "Grabbed iter 6 total sub n so far 9\n",
      "Grabbed iter 7 total sub n so far 12\n",
      "Grabbed iter 8 total sub n so far 13\n",
      "2023-05-01 05:52:12.158676\n",
      "OH\n",
      "2023-05-01 05:52:12.158696\n",
      "Grabbed iter 1 total sub n so far 30\n",
      "Grabbed iter 2 total sub n so far 118\n",
      "Grabbed iter 3 total sub n so far 173\n",
      "Grabbed iter 4 total sub n so far 220\n",
      "Grabbed iter 5 total sub n so far 252\n",
      "Grabbed iter 6 total sub n so far 343\n",
      "Grabbed iter 7 total sub n so far 392\n",
      "Grabbed iter 8 total sub n so far 413\n",
      "2023-05-01 05:54:11.119939\n",
      "OK\n",
      "2023-05-01 05:54:11.119972\n",
      "Grabbed iter 1 total sub n so far 19\n",
      "Grabbed iter 2 total sub n so far 34\n",
      "Grabbed iter 3 total sub n so far 43\n",
      "Grabbed iter 4 total sub n so far 60\n",
      "Grabbed iter 5 total sub n so far 68\n",
      "Grabbed iter 6 total sub n so far 90\n",
      "Grabbed iter 7 total sub n so far 105\n",
      "Grabbed iter 8 total sub n so far 110\n",
      "2023-05-01 05:56:09.827736\n",
      "OR\n",
      "2023-05-01 05:56:09.827758\n",
      "Grabbed iter 1 total sub n so far 3\n",
      "Grabbed iter 2 total sub n so far 22\n",
      "Grabbed iter 3 total sub n so far 47\n",
      "Grabbed iter 4 total sub n so far 62\n",
      "Grabbed iter 5 total sub n so far 78\n",
      "Grabbed iter 6 total sub n so far 90\n",
      "Grabbed iter 7 total sub n so far 113\n",
      "Grabbed iter 8 total sub n so far 124\n",
      "2023-05-01 05:58:08.780624\n",
      "PA\n",
      "2023-05-01 05:58:08.780644\n",
      "Grabbed iter 1 total sub n so far 40\n",
      "Grabbed iter 2 total sub n so far 105\n",
      "Grabbed iter 3 total sub n so far 173\n",
      "Grabbed iter 4 total sub n so far 247\n",
      "Grabbed iter 5 total sub n so far 295\n",
      "Grabbed iter 6 total sub n so far 362\n",
      "Grabbed iter 7 total sub n so far 423\n",
      "Grabbed iter 8 total sub n so far 480\n",
      "2023-05-01 06:00:07.918184\n",
      "RI\n",
      "2023-05-01 06:00:07.918205\n",
      "Grabbed iter 1 total sub n so far 1\n",
      "Grabbed iter 2 total sub n so far 9\n",
      "Grabbed iter 3 total sub n so far 11\n",
      "Grabbed iter 4 total sub n so far 16\n",
      "Grabbed iter 5 total sub n so far 18\n",
      "Grabbed iter 6 total sub n so far 25\n",
      "Grabbed iter 7 total sub n so far 29\n",
      "Grabbed iter 8 total sub n so far 30\n",
      "2023-05-01 06:02:07.110645\n",
      "SC\n",
      "2023-05-01 06:02:07.110667\n",
      "Grabbed iter 1 total sub n so far 16\n",
      "Grabbed iter 2 total sub n so far 51\n",
      "Grabbed iter 3 total sub n so far 82\n",
      "Grabbed iter 4 total sub n so far 107\n",
      "Grabbed iter 5 total sub n so far 126\n",
      "Grabbed iter 6 total sub n so far 156\n",
      "Grabbed iter 7 total sub n so far 198\n",
      "Grabbed iter 8 total sub n so far 216\n",
      "2023-05-01 06:04:06.254978\n",
      "SD\n",
      "2023-05-01 06:04:06.255001\n",
      "Grabbed iter 1 total sub n so far 3\n",
      "Grabbed iter 2 total sub n so far 6\n",
      "Grabbed iter 3 total sub n so far 9\n",
      "Grabbed iter 4 total sub n so far 14\n",
      "Grabbed iter 5 total sub n so far 15\n",
      "Grabbed iter 6 total sub n so far 21\n",
      "Grabbed iter 7 total sub n so far 22\n",
      "Grabbed iter 8 total sub n so far 23\n",
      "2023-05-01 06:06:05.243821\n",
      "TN\n",
      "2023-05-01 06:06:05.243845\n",
      "Grabbed iter 1 total sub n so far 21\n",
      "Grabbed iter 2 total sub n so far 65\n",
      "Grabbed iter 3 total sub n so far 111\n",
      "Grabbed iter 4 total sub n so far 167\n",
      "Grabbed iter 5 total sub n so far 208\n",
      "Grabbed iter 6 total sub n so far 257\n",
      "Grabbed iter 7 total sub n so far 306\n",
      "Grabbed iter 8 total sub n so far 332\n",
      "2023-05-01 06:08:04.274684\n",
      "TX\n",
      "2023-05-01 06:08:04.274705\n",
      "Grabbed iter 1 total sub n so far 55\n",
      "Grabbed iter 2 total sub n so far 189\n",
      "Grabbed iter 3 total sub n so far 283\n",
      "Grabbed iter 4 total sub n so far 361\n",
      "Grabbed iter 5 total sub n so far 442\n",
      "Grabbed iter 6 total sub n so far 572\n",
      "Grabbed iter 7 total sub n so far 667\n",
      "Grabbed iter 8 total sub n so far 748\n",
      "2023-05-01 06:10:03.610775\n",
      "UT\n",
      "2023-05-01 06:10:03.610809\n",
      "Grabbed iter 1 total sub n so far 5\n",
      "Grabbed iter 2 total sub n so far 24\n",
      "Grabbed iter 3 total sub n so far 36\n",
      "Grabbed iter 4 total sub n so far 45\n",
      "Grabbed iter 5 total sub n so far 52\n",
      "Grabbed iter 6 total sub n so far 57\n",
      "Grabbed iter 7 total sub n so far 65\n",
      "Grabbed iter 8 total sub n so far 71\n",
      "2023-05-01 06:12:02.616822\n",
      "VT\n",
      "2023-05-01 06:12:02.616869\n",
      "Grabbed iter 1 total sub n so far 4\n",
      "Grabbed iter 2 total sub n so far 8\n",
      "Grabbed iter 3 total sub n so far 9\n",
      "Grabbed iter 4 total sub n so far 9\n",
      "Grabbed iter 5 total sub n so far 10\n",
      "Grabbed iter 6 total sub n so far 15\n",
      "Grabbed iter 7 total sub n so far 17\n",
      "Grabbed iter 8 total sub n so far 17\n",
      "2023-05-01 06:14:03.126973\n",
      "VA\n",
      "2023-05-01 06:14:03.126994\n",
      "Grabbed iter 1 total sub n so far 9\n",
      "Grabbed iter 2 total sub n so far 32\n",
      "Grabbed iter 3 total sub n so far 54\n",
      "Grabbed iter 4 total sub n so far 73\n",
      "Grabbed iter 5 total sub n so far 90\n",
      "Grabbed iter 6 total sub n so far 136\n",
      "Grabbed iter 7 total sub n so far 173\n",
      "Grabbed iter 8 total sub n so far 197\n",
      "2023-05-01 06:16:03.580621\n",
      "WA\n",
      "2023-05-01 06:16:03.580644\n",
      "Grabbed iter 1 total sub n so far 15\n",
      "Grabbed iter 2 total sub n so far 55\n",
      "Grabbed iter 3 total sub n so far 93\n",
      "Grabbed iter 4 total sub n so far 108\n",
      "Grabbed iter 5 total sub n so far 127\n",
      "Grabbed iter 6 total sub n so far 154\n",
      "Grabbed iter 7 total sub n so far 192\n",
      "Grabbed iter 8 total sub n so far 206\n",
      "2023-05-01 06:18:03.830353\n",
      "WV\n",
      "2023-05-01 06:18:03.830372\n",
      "Grabbed iter 1 total sub n so far 1\n",
      "Grabbed iter 2 total sub n so far 8\n",
      "Grabbed iter 3 total sub n so far 17\n",
      "Grabbed iter 4 total sub n so far 26\n",
      "Grabbed iter 5 total sub n so far 36\n",
      "Grabbed iter 6 total sub n so far 57\n",
      "Grabbed iter 7 total sub n so far 61\n",
      "Grabbed iter 8 total sub n so far 66\n",
      "2023-05-01 06:20:02.879571\n",
      "WI\n",
      "2023-05-01 06:20:02.879594\n",
      "Grabbed iter 1 total sub n so far 8\n",
      "Grabbed iter 2 total sub n so far 33\n",
      "Grabbed iter 3 total sub n so far 50\n",
      "Grabbed iter 4 total sub n so far 59\n",
      "Grabbed iter 5 total sub n so far 77\n",
      "Grabbed iter 6 total sub n so far 95\n",
      "Grabbed iter 7 total sub n so far 105\n",
      "Grabbed iter 8 total sub n so far 120\n",
      "2023-05-01 06:22:02.486356\n",
      "WY\n",
      "2023-05-01 06:22:02.486380\n",
      "Grabbed iter 1 total sub n so far 1\n",
      "Grabbed iter 2 total sub n so far 2\n",
      "Grabbed iter 3 total sub n so far 4\n",
      "Grabbed iter 4 total sub n so far 5\n",
      "Grabbed iter 5 total sub n so far 8\n",
      "Grabbed iter 6 total sub n so far 17\n",
      "Grabbed iter 7 total sub n so far 18\n",
      "Grabbed iter 8 total sub n so far 19\n",
      "2023-05-01 06:24:01.479489\n"
     ]
    }
   ],
   "source": [
    "dfs = []\n",
    "\n",
    "for s in states:\n",
    "    print(s)\n",
    "    print(datetime.now())\n",
    "    pharm_tx = csv_chunks(npi_csv, chunk_size=1000000, keep_cols=keep_col, state = s, row_sub=sub_rows)\n",
    "    print(datetime.now()) \n",
    "    dfs.append(pharm_tx)\n"
   ]
  },
  {
   "cell_type": "code",
   "execution_count": 82,
   "id": "3bffc8f7-1094-41c3-95a0-3a1b0babbb43",
   "metadata": {},
   "outputs": [],
   "source": [
    "combined = pd.concat(dfs)"
   ]
  },
  {
   "cell_type": "code",
   "execution_count": 83,
   "id": "c1fbfc04-6564-4109-8c52-9435fc0e049c",
   "metadata": {},
   "outputs": [
    {
     "data": {
      "text/plain": [
       "10230"
      ]
     },
     "execution_count": 83,
     "metadata": {},
     "output_type": "execute_result"
    }
   ],
   "source": [
    "len(combined)"
   ]
  },
  {
   "cell_type": "code",
   "execution_count": 9,
   "id": "179b8c0b-084c-4fff-a9f5-a60b12c571c1",
   "metadata": {},
   "outputs": [
    {
     "data": {
      "text/html": [
       "<div>\n",
       "<style scoped>\n",
       "    .dataframe tbody tr th:only-of-type {\n",
       "        vertical-align: middle;\n",
       "    }\n",
       "\n",
       "    .dataframe tbody tr th {\n",
       "        vertical-align: top;\n",
       "    }\n",
       "\n",
       "    .dataframe thead th {\n",
       "        text-align: right;\n",
       "    }\n",
       "</style>\n",
       "<table border=\"1\" class=\"dataframe\">\n",
       "  <thead>\n",
       "    <tr style=\"text-align: right;\">\n",
       "      <th></th>\n",
       "      <th>NPI</th>\n",
       "      <th>Entity Type Code</th>\n",
       "      <th>Provider Organization Name (Legal Business Name)</th>\n",
       "      <th>Provider First Line Business Practice Location Address</th>\n",
       "      <th>City</th>\n",
       "      <th>State2</th>\n",
       "      <th>Provider Business Practice Location Address Postal Code</th>\n",
       "      <th>Provider Business Practice Location Address Telephone Number</th>\n",
       "      <th>Zip5</th>\n",
       "      <th>Address</th>\n",
       "      <th>taxonomy</th>\n",
       "    </tr>\n",
       "  </thead>\n",
       "  <tbody>\n",
       "    <tr>\n",
       "      <th>0</th>\n",
       "      <td>1447443551</td>\n",
       "      <td>2</td>\n",
       "      <td>ALABAMA PROSTHETICS &amp; ORTHOTICS, INC</td>\n",
       "      <td>101 MEDICAL CENTER CT</td>\n",
       "      <td>PRATTVILLE</td>\n",
       "      <td>AL</td>\n",
       "      <td>36066</td>\n",
       "      <td>3.343620e+09</td>\n",
       "      <td>36066</td>\n",
       "      <td>101 MEDICAL CENTER CT</td>\n",
       "      <td>335E00000X</td>\n",
       "    </tr>\n",
       "    <tr>\n",
       "      <th>1</th>\n",
       "      <td>1831369404</td>\n",
       "      <td>2</td>\n",
       "      <td>ORTHOPRO, INC</td>\n",
       "      <td>1812 28TH AVE S</td>\n",
       "      <td>BIRMINGHAM</td>\n",
       "      <td>AL</td>\n",
       "      <td>35209</td>\n",
       "      <td>2.058799e+09</td>\n",
       "      <td>35209</td>\n",
       "      <td>1812 28TH AVE S</td>\n",
       "      <td>335E00000X</td>\n",
       "    </tr>\n",
       "  </tbody>\n",
       "</table>\n",
       "</div>"
      ],
      "text/plain": [
       "          NPI  Entity Type Code  \\\n",
       "0  1447443551                 2   \n",
       "1  1831369404                 2   \n",
       "\n",
       "  Provider Organization Name (Legal Business Name)  \\\n",
       "0             ALABAMA PROSTHETICS & ORTHOTICS, INC   \n",
       "1                                    ORTHOPRO, INC   \n",
       "\n",
       "  Provider First Line Business Practice Location Address        City State2  \\\n",
       "0                              101 MEDICAL CENTER CT      PRATTVILLE     AL   \n",
       "1                                    1812 28TH AVE S      BIRMINGHAM     AL   \n",
       "\n",
       "  Provider Business Practice Location Address Postal Code  \\\n",
       "0                                              36066        \n",
       "1                                              35209        \n",
       "\n",
       "   Provider Business Practice Location Address Telephone Number   Zip5  \\\n",
       "0                                       3.343620e+09             36066   \n",
       "1                                       2.058799e+09             35209   \n",
       "\n",
       "                 Address    taxonomy  \n",
       "0  101 MEDICAL CENTER CT  335E00000X  \n",
       "1        1812 28TH AVE S  335E00000X  "
      ]
     },
     "execution_count": 9,
     "metadata": {},
     "output_type": "execute_result"
    }
   ],
   "source": [
    "combined['Provider Business Practice Location Address Postal Code'] = combined['Provider Business Practice Location Address Postal Code'].str[0:5]\n",
    "combined['Zip5'] = combined['Provider Business Practice Location Address Postal Code'].str[0:5]\n",
    "combined['Address'] = combined['Provider First Line Business Practice Location Address'].apply(clean_add)\n",
    "\n",
    "combined.rename(columns={'Provider Business Practice Location Address City Name':'City',\n",
    "                      'Provider Business Practice Location Address State Name':'State2'},\n",
    "             inplace=True)\n",
    "combined = combined[-combined['Provider Organization Name (Legal Business Name)'].str.contains(\"NORDSTROM\")].reset_index(drop = True)\n",
    "combined.head(2)"
   ]
  },
  {
   "cell_type": "code",
   "execution_count": 10,
   "id": "f4281acf-dca8-4314-bdad-3189e835a6a5",
   "metadata": {
    "collapsed": true,
    "jupyter": {
     "outputs_hidden": true
    },
    "tags": []
   },
   "outputs": [
    {
     "ename": "KeyError",
     "evalue": "'Healthcare Provider Primary Taxonomy Switch_1'",
     "output_type": "error",
     "traceback": [
      "\u001b[0;31m---------------------------------------------------------------------------\u001b[0m",
      "\u001b[0;31mKeyError\u001b[0m                                  Traceback (most recent call last)",
      "File \u001b[0;32m~/anaconda3/lib/python3.9/site-packages/pandas/core/indexes/base.py:3629\u001b[0m, in \u001b[0;36mIndex.get_loc\u001b[0;34m(self, key, method, tolerance)\u001b[0m\n\u001b[1;32m   3628\u001b[0m \u001b[38;5;28;01mtry\u001b[39;00m:\n\u001b[0;32m-> 3629\u001b[0m     \u001b[38;5;28;01mreturn\u001b[39;00m \u001b[38;5;28;43mself\u001b[39;49m\u001b[38;5;241;43m.\u001b[39;49m\u001b[43m_engine\u001b[49m\u001b[38;5;241;43m.\u001b[39;49m\u001b[43mget_loc\u001b[49m\u001b[43m(\u001b[49m\u001b[43mcasted_key\u001b[49m\u001b[43m)\u001b[49m\n\u001b[1;32m   3630\u001b[0m \u001b[38;5;28;01mexcept\u001b[39;00m \u001b[38;5;167;01mKeyError\u001b[39;00m \u001b[38;5;28;01mas\u001b[39;00m err:\n",
      "File \u001b[0;32m~/anaconda3/lib/python3.9/site-packages/pandas/_libs/index.pyx:136\u001b[0m, in \u001b[0;36mpandas._libs.index.IndexEngine.get_loc\u001b[0;34m()\u001b[0m\n",
      "File \u001b[0;32m~/anaconda3/lib/python3.9/site-packages/pandas/_libs/index.pyx:163\u001b[0m, in \u001b[0;36mpandas._libs.index.IndexEngine.get_loc\u001b[0;34m()\u001b[0m\n",
      "File \u001b[0;32mpandas/_libs/hashtable_class_helper.pxi:5198\u001b[0m, in \u001b[0;36mpandas._libs.hashtable.PyObjectHashTable.get_item\u001b[0;34m()\u001b[0m\n",
      "File \u001b[0;32mpandas/_libs/hashtable_class_helper.pxi:5206\u001b[0m, in \u001b[0;36mpandas._libs.hashtable.PyObjectHashTable.get_item\u001b[0;34m()\u001b[0m\n",
      "\u001b[0;31mKeyError\u001b[0m: 'Healthcare Provider Primary Taxonomy Switch_1'",
      "\nThe above exception was the direct cause of the following exception:\n",
      "\u001b[0;31mKeyError\u001b[0m                                  Traceback (most recent call last)",
      "Cell \u001b[0;32mIn [10], line 4\u001b[0m\n\u001b[1;32m      2\u001b[0m \u001b[38;5;28;01mfor\u001b[39;00m n \u001b[38;5;129;01min\u001b[39;00m \u001b[38;5;28mrange\u001b[39m(\u001b[38;5;28mlen\u001b[39m(combined)):\n\u001b[1;32m      3\u001b[0m     \u001b[38;5;28;01mfor\u001b[39;00m i \u001b[38;5;129;01min\u001b[39;00m \u001b[38;5;28mrange\u001b[39m(\u001b[38;5;241m15\u001b[39m):\n\u001b[0;32m----> 4\u001b[0m         \u001b[38;5;28;01mif\u001b[39;00m \u001b[43mcombined\u001b[49m\u001b[38;5;241;43m.\u001b[39;49m\u001b[43miloc\u001b[49m\u001b[43m[\u001b[49m\u001b[43mn\u001b[49m\u001b[43m]\u001b[49m\u001b[43m[\u001b[49m\u001b[38;5;124;43m'\u001b[39;49m\u001b[38;5;124;43mHealthcare Provider Primary Taxonomy Switch_\u001b[39;49m\u001b[38;5;124;43m'\u001b[39;49m\u001b[43m \u001b[49m\u001b[38;5;241;43m+\u001b[39;49m\u001b[43m \u001b[49m\u001b[38;5;28;43mstr\u001b[39;49m\u001b[43m(\u001b[49m\u001b[43mi\u001b[49m\u001b[38;5;241;43m+\u001b[39;49m\u001b[38;5;241;43m1\u001b[39;49m\u001b[43m)\u001b[49m\u001b[43m]\u001b[49m \u001b[38;5;241m==\u001b[39m \u001b[38;5;124m'\u001b[39m\u001b[38;5;124mY\u001b[39m\u001b[38;5;124m'\u001b[39m:\n\u001b[1;32m      5\u001b[0m             v \u001b[38;5;241m=\u001b[39m combined\u001b[38;5;241m.\u001b[39miloc[n][\u001b[38;5;124m'\u001b[39m\u001b[38;5;124mHealthcare Provider Taxonomy Code_\u001b[39m\u001b[38;5;124m'\u001b[39m \u001b[38;5;241m+\u001b[39m \u001b[38;5;28mstr\u001b[39m(i\u001b[38;5;241m+\u001b[39m\u001b[38;5;241m1\u001b[39m)]\n\u001b[1;32m      6\u001b[0m     newc\u001b[38;5;241m.\u001b[39mappend(v)\n",
      "File \u001b[0;32m~/anaconda3/lib/python3.9/site-packages/pandas/core/series.py:958\u001b[0m, in \u001b[0;36mSeries.__getitem__\u001b[0;34m(self, key)\u001b[0m\n\u001b[1;32m    955\u001b[0m     \u001b[38;5;28;01mreturn\u001b[39;00m \u001b[38;5;28mself\u001b[39m\u001b[38;5;241m.\u001b[39m_values[key]\n\u001b[1;32m    957\u001b[0m \u001b[38;5;28;01melif\u001b[39;00m key_is_scalar:\n\u001b[0;32m--> 958\u001b[0m     \u001b[38;5;28;01mreturn\u001b[39;00m \u001b[38;5;28;43mself\u001b[39;49m\u001b[38;5;241;43m.\u001b[39;49m\u001b[43m_get_value\u001b[49m\u001b[43m(\u001b[49m\u001b[43mkey\u001b[49m\u001b[43m)\u001b[49m\n\u001b[1;32m    960\u001b[0m \u001b[38;5;28;01mif\u001b[39;00m is_hashable(key):\n\u001b[1;32m    961\u001b[0m     \u001b[38;5;66;03m# Otherwise index.get_value will raise InvalidIndexError\u001b[39;00m\n\u001b[1;32m    962\u001b[0m     \u001b[38;5;28;01mtry\u001b[39;00m:\n\u001b[1;32m    963\u001b[0m         \u001b[38;5;66;03m# For labels that don't resolve as scalars like tuples and frozensets\u001b[39;00m\n",
      "File \u001b[0;32m~/anaconda3/lib/python3.9/site-packages/pandas/core/series.py:1069\u001b[0m, in \u001b[0;36mSeries._get_value\u001b[0;34m(self, label, takeable)\u001b[0m\n\u001b[1;32m   1066\u001b[0m     \u001b[38;5;28;01mreturn\u001b[39;00m \u001b[38;5;28mself\u001b[39m\u001b[38;5;241m.\u001b[39m_values[label]\n\u001b[1;32m   1068\u001b[0m \u001b[38;5;66;03m# Similar to Index.get_value, but we do not fall back to positional\u001b[39;00m\n\u001b[0;32m-> 1069\u001b[0m loc \u001b[38;5;241m=\u001b[39m \u001b[38;5;28;43mself\u001b[39;49m\u001b[38;5;241;43m.\u001b[39;49m\u001b[43mindex\u001b[49m\u001b[38;5;241;43m.\u001b[39;49m\u001b[43mget_loc\u001b[49m\u001b[43m(\u001b[49m\u001b[43mlabel\u001b[49m\u001b[43m)\u001b[49m\n\u001b[1;32m   1070\u001b[0m \u001b[38;5;28;01mreturn\u001b[39;00m \u001b[38;5;28mself\u001b[39m\u001b[38;5;241m.\u001b[39mindex\u001b[38;5;241m.\u001b[39m_get_values_for_loc(\u001b[38;5;28mself\u001b[39m, loc, label)\n",
      "File \u001b[0;32m~/anaconda3/lib/python3.9/site-packages/pandas/core/indexes/base.py:3631\u001b[0m, in \u001b[0;36mIndex.get_loc\u001b[0;34m(self, key, method, tolerance)\u001b[0m\n\u001b[1;32m   3629\u001b[0m     \u001b[38;5;28;01mreturn\u001b[39;00m \u001b[38;5;28mself\u001b[39m\u001b[38;5;241m.\u001b[39m_engine\u001b[38;5;241m.\u001b[39mget_loc(casted_key)\n\u001b[1;32m   3630\u001b[0m \u001b[38;5;28;01mexcept\u001b[39;00m \u001b[38;5;167;01mKeyError\u001b[39;00m \u001b[38;5;28;01mas\u001b[39;00m err:\n\u001b[0;32m-> 3631\u001b[0m     \u001b[38;5;28;01mraise\u001b[39;00m \u001b[38;5;167;01mKeyError\u001b[39;00m(key) \u001b[38;5;28;01mfrom\u001b[39;00m \u001b[38;5;21;01merr\u001b[39;00m\n\u001b[1;32m   3632\u001b[0m \u001b[38;5;28;01mexcept\u001b[39;00m \u001b[38;5;167;01mTypeError\u001b[39;00m:\n\u001b[1;32m   3633\u001b[0m     \u001b[38;5;66;03m# If we have a listlike key, _check_indexing_error will raise\u001b[39;00m\n\u001b[1;32m   3634\u001b[0m     \u001b[38;5;66;03m#  InvalidIndexError. Otherwise we fall through and re-raise\u001b[39;00m\n\u001b[1;32m   3635\u001b[0m     \u001b[38;5;66;03m#  the TypeError.\u001b[39;00m\n\u001b[1;32m   3636\u001b[0m     \u001b[38;5;28mself\u001b[39m\u001b[38;5;241m.\u001b[39m_check_indexing_error(key)\n",
      "\u001b[0;31mKeyError\u001b[0m: 'Healthcare Provider Primary Taxonomy Switch_1'"
     ]
    }
   ],
   "source": [
    "newc = []\n",
    "for n in range(len(combined)):\n",
    "    for i in range(15):\n",
    "        if combined.iloc[n]['Healthcare Provider Primary Taxonomy Switch_' + str(i+1)] == 'Y':\n",
    "            v = combined.iloc[n]['Healthcare Provider Taxonomy Code_' + str(i+1)]\n",
    "    newc.append(v)"
   ]
  },
  {
   "cell_type": "code",
   "execution_count": 86,
   "id": "530572fc-adec-47d8-aa1f-823ccb899b25",
   "metadata": {},
   "outputs": [],
   "source": [
    "dec_codes = ['NPI Deactivation Reason Code','NPI Deactivation Date','NPI Reactivation Date']\n",
    "combined = combined.drop(columns=taxon_codes+taxonswitch_codes+dec_codes).reset_index(drop=True)\n",
    "combined['taxonomy'] = newc\n",
    "# ph_tx = ph_tx[ph_tx['taxonomy'].isin(community_pharm)]"
   ]
  },
  {
   "cell_type": "code",
   "execution_count": 92,
   "id": "662e7681-ff58-44d1-ae0e-1ad21d00a733",
   "metadata": {},
   "outputs": [],
   "source": [
    "# combined.to_csv('combinedDf.csv',index=False)"
   ]
  },
  {
   "cell_type": "code",
   "execution_count": 3,
   "id": "104d977e-cb4e-44b2-a778-f882101c0c42",
   "metadata": {},
   "outputs": [],
   "source": [
    "combined = pd.read_csv('combinedDf.csv')"
   ]
  },
  {
   "cell_type": "code",
   "execution_count": 5,
   "id": "4b245a1b-5cf6-4471-9dfd-f4fff2bdba9c",
   "metadata": {},
   "outputs": [],
   "source": [
    "combined2 = combined[combined['taxonomy'].str.contains(\"261QA0900X\")]"
   ]
  },
  {
   "cell_type": "code",
   "execution_count": 6,
   "id": "72d53726-d330-4056-9ff4-b5f2b5f635ae",
   "metadata": {},
   "outputs": [
    {
     "data": {
      "text/plain": [
       "4375"
      ]
     },
     "execution_count": 6,
     "metadata": {},
     "output_type": "execute_result"
    }
   ],
   "source": [
    "combined = combined[combined['Provider Organization Name (Legal Business Name)'].str.contains(\"ORTHO|PROS|P&O|LIMB\")].reset_index(drop = True)\n",
    "len(combined)"
   ]
  },
  {
   "cell_type": "code",
   "execution_count": 7,
   "id": "5e413735-a653-4af6-b658-69dd049db6f7",
   "metadata": {},
   "outputs": [
    {
     "data": {
      "text/plain": [
       "(4375, 11)"
      ]
     },
     "execution_count": 7,
     "metadata": {},
     "output_type": "execute_result"
    }
   ],
   "source": [
    "combined_3 = pd.concat([combined, combined2]).drop_duplicates()\n",
    "combined_3.shape"
   ]
  },
  {
   "cell_type": "code",
   "execution_count": 8,
   "id": "de9a8671-8163-46eb-9911-6427000c64c5",
   "metadata": {},
   "outputs": [
    {
     "data": {
      "text/plain": [
       "4062"
      ]
     },
     "execution_count": 8,
     "metadata": {},
     "output_type": "execute_result"
    }
   ],
   "source": [
    "combined_3 = combined_3.sort_values(by=['State2'])\n",
    "len(combined_3[\"Address\"].unique())"
   ]
  },
  {
   "cell_type": "code",
   "execution_count": 9,
   "id": "29c64062-e739-4c04-a17e-42a781110282",
   "metadata": {},
   "outputs": [],
   "source": [
    "combined_4 = combined_3[~combined_3.duplicated(subset=['Address'], keep=\"last\")].reset_index(drop = True)"
   ]
  },
  {
   "cell_type": "code",
   "execution_count": 12,
   "id": "0c9250ce-4665-4728-b37b-f9c51f78cc76",
   "metadata": {
    "tags": []
   },
   "outputs": [],
   "source": [
    "# combined_4.to_excel('us_clinics.xlsx',index=False)"
   ]
  },
  {
   "cell_type": "code",
   "execution_count": 23,
   "id": "3a6efa71-f67f-4b37-b9b8-2f4f288242da",
   "metadata": {},
   "outputs": [],
   "source": [
    "# sam = geo_pharm\n",
    "# geo_pharm = pd.DataFrame()"
   ]
  },
  {
   "cell_type": "code",
   "execution_count": 24,
   "id": "32429226-d15c-41b0-a798-cf1d5c47c1fa",
   "metadata": {},
   "outputs": [
    {
     "data": {
      "text/html": [
       "<div>\n",
       "<style scoped>\n",
       "    .dataframe tbody tr th:only-of-type {\n",
       "        vertical-align: middle;\n",
       "    }\n",
       "\n",
       "    .dataframe tbody tr th {\n",
       "        vertical-align: top;\n",
       "    }\n",
       "\n",
       "    .dataframe thead th {\n",
       "        text-align: right;\n",
       "    }\n",
       "</style>\n",
       "<table border=\"1\" class=\"dataframe\">\n",
       "  <thead>\n",
       "    <tr style=\"text-align: right;\">\n",
       "      <th></th>\n",
       "      <th>index</th>\n",
       "      <th>Address</th>\n",
       "      <th>City</th>\n",
       "      <th>State2</th>\n",
       "      <th>Zip5</th>\n",
       "    </tr>\n",
       "  </thead>\n",
       "  <tbody>\n",
       "    <tr>\n",
       "      <th>0</th>\n",
       "      <td>0</td>\n",
       "      <td>1405 KELLUM ST</td>\n",
       "      <td>FAIRBANKS</td>\n",
       "      <td>AK</td>\n",
       "      <td>99701</td>\n",
       "    </tr>\n",
       "    <tr>\n",
       "      <th>1</th>\n",
       "      <td>1</td>\n",
       "      <td>3719 E MERIDIAN LOOP</td>\n",
       "      <td>WASILLA</td>\n",
       "      <td>AK</td>\n",
       "      <td>99654</td>\n",
       "    </tr>\n",
       "    <tr>\n",
       "      <th>2</th>\n",
       "      <td>2</td>\n",
       "      <td>3400 LATOUCHE ST</td>\n",
       "      <td>ANCHORAGE</td>\n",
       "      <td>AK</td>\n",
       "      <td>99508</td>\n",
       "    </tr>\n",
       "    <tr>\n",
       "      <th>3</th>\n",
       "      <td>3</td>\n",
       "      <td>44604</td>\n",
       "      <td>SOLDOTNA</td>\n",
       "      <td>AK</td>\n",
       "      <td>99669</td>\n",
       "    </tr>\n",
       "    <tr>\n",
       "      <th>4</th>\n",
       "      <td>4</td>\n",
       "      <td>5701 LAKE OTIS PKWY</td>\n",
       "      <td>ANCHORAGE</td>\n",
       "      <td>AK</td>\n",
       "      <td>99507</td>\n",
       "    </tr>\n",
       "    <tr>\n",
       "      <th>...</th>\n",
       "      <td>...</td>\n",
       "      <td>...</td>\n",
       "      <td>...</td>\n",
       "      <td>...</td>\n",
       "      <td>...</td>\n",
       "    </tr>\n",
       "    <tr>\n",
       "      <th>4057</th>\n",
       "      <td>4057</td>\n",
       "      <td>135 S WASHINGTON ST</td>\n",
       "      <td>CASPER</td>\n",
       "      <td>WY</td>\n",
       "      <td>82601</td>\n",
       "    </tr>\n",
       "    <tr>\n",
       "      <th>4058</th>\n",
       "      <td>4058</td>\n",
       "      <td>611 E CARLSON STREET</td>\n",
       "      <td>CHEYENNE</td>\n",
       "      <td>WY</td>\n",
       "      <td>82009</td>\n",
       "    </tr>\n",
       "    <tr>\n",
       "      <th>4059</th>\n",
       "      <td>4059</td>\n",
       "      <td>240 W 9TH ST</td>\n",
       "      <td>CASPER</td>\n",
       "      <td>WY</td>\n",
       "      <td>82601</td>\n",
       "    </tr>\n",
       "    <tr>\n",
       "      <th>4060</th>\n",
       "      <td>4060</td>\n",
       "      <td>720 LINDSAY LN</td>\n",
       "      <td>CODY</td>\n",
       "      <td>WY</td>\n",
       "      <td>82414</td>\n",
       "    </tr>\n",
       "    <tr>\n",
       "      <th>4061</th>\n",
       "      <td>4061</td>\n",
       "      <td>709 E 8TH ST</td>\n",
       "      <td>GILLETTE</td>\n",
       "      <td>WY</td>\n",
       "      <td>82716</td>\n",
       "    </tr>\n",
       "  </tbody>\n",
       "</table>\n",
       "<p>4062 rows × 5 columns</p>\n",
       "</div>"
      ],
      "text/plain": [
       "     index               Address       City State2   Zip5\n",
       "0        0        1405 KELLUM ST  FAIRBANKS     AK  99701\n",
       "1        1  3719 E MERIDIAN LOOP    WASILLA     AK  99654\n",
       "2        2      3400 LATOUCHE ST  ANCHORAGE     AK  99508\n",
       "3        3                 44604   SOLDOTNA     AK  99669\n",
       "4        4   5701 LAKE OTIS PKWY  ANCHORAGE     AK  99507\n",
       "...    ...                   ...        ...    ...    ...\n",
       "4057  4057   135 S WASHINGTON ST     CASPER     WY  82601\n",
       "4058  4058  611 E CARLSON STREET   CHEYENNE     WY  82009\n",
       "4059  4059          240 W 9TH ST     CASPER     WY  82601\n",
       "4060  4060        720 LINDSAY LN       CODY     WY  82414\n",
       "4061  4061          709 E 8TH ST   GILLETTE     WY  82716\n",
       "\n",
       "[4062 rows x 5 columns]"
      ]
     },
     "execution_count": 24,
     "metadata": {},
     "output_type": "execute_result"
    }
   ],
   "source": [
    "combined_5 = pd.DataFrame([combined_4.index, combined_4.Address, combined_4.City, combined_4.State2, combined_4.Zip5]).transpose()\n",
    "combined_5.columns = ['index', 'Address', 'City', 'State2', 'Zip5']\n",
    "combined_5"
   ]
  },
  {
   "cell_type": "code",
   "execution_count": 25,
   "id": "8cf6d0de-0ea7-43f1-85cd-f71a6d0986d5",
   "metadata": {},
   "outputs": [],
   "source": [
    "combined_5.to_csv('cgDf.csv',index=False)"
   ]
  },
  {
   "cell_type": "code",
   "execution_count": 26,
   "id": "7dd75a3d-5feb-42d6-b350-26e83cac4eaf",
   "metadata": {},
   "outputs": [],
   "source": [
    "k = cg.addressbatch('cgDf.csv')"
   ]
  },
  {
   "cell_type": "code",
   "execution_count": 27,
   "id": "10df4198-a4b2-44b4-9b7b-291faaef0f4b",
   "metadata": {},
   "outputs": [],
   "source": [
    "geo_pharm = pd.DataFrame(k, columns=k[0].keys())"
   ]
  },
  {
   "cell_type": "code",
   "execution_count": 30,
   "id": "77f0077e-f299-48c2-8a25-50266c78c642",
   "metadata": {},
   "outputs": [
    {
     "name": "stdout",
     "output_type": "stream",
     "text": [
      "True     3557\n",
      "False     506\n",
      "Name: match, dtype: int64\n"
     ]
    }
   ],
   "source": [
    "print(geo_pharm['match'].value_counts())"
   ]
  },
  {
   "cell_type": "code",
   "execution_count": 33,
   "id": "601a322a-d5ef-4a83-ac88-eff3b57c552a",
   "metadata": {},
   "outputs": [
    {
     "data": {
      "text/html": [
       "<div>\n",
       "<style scoped>\n",
       "    .dataframe tbody tr th:only-of-type {\n",
       "        vertical-align: middle;\n",
       "    }\n",
       "\n",
       "    .dataframe tbody tr th {\n",
       "        vertical-align: top;\n",
       "    }\n",
       "\n",
       "    .dataframe thead th {\n",
       "        text-align: right;\n",
       "    }\n",
       "</style>\n",
       "<table border=\"1\" class=\"dataframe\">\n",
       "  <thead>\n",
       "    <tr style=\"text-align: right;\">\n",
       "      <th></th>\n",
       "      <th>NPI</th>\n",
       "      <th>Name</th>\n",
       "      <th>Telephone</th>\n",
       "      <th>City</th>\n",
       "      <th>State2</th>\n",
       "      <th>Zip5</th>\n",
       "      <th>address</th>\n",
       "      <th>match</th>\n",
       "      <th>lat</th>\n",
       "      <th>lon</th>\n",
       "    </tr>\n",
       "  </thead>\n",
       "  <tbody>\n",
       "    <tr>\n",
       "      <th>0</th>\n",
       "      <td>1.689920e+09</td>\n",
       "      <td>ALCHEMY ORTHOTICS AND PROSTHETICS</td>\n",
       "      <td>9.075621e+09</td>\n",
       "      <td>FAIRBANKS</td>\n",
       "      <td>AK</td>\n",
       "      <td>99701.0</td>\n",
       "      <td>15301 SPECTRUM DR, ADDISON, TX, 75001</td>\n",
       "      <td>True</td>\n",
       "      <td>32.960742</td>\n",
       "      <td>-96.824101</td>\n",
       "    </tr>\n",
       "    <tr>\n",
       "      <th>1</th>\n",
       "      <td>1.952445e+09</td>\n",
       "      <td>NORTHERN ORTHOPEDICS INC</td>\n",
       "      <td>9.073574e+09</td>\n",
       "      <td>WASILLA</td>\n",
       "      <td>AK</td>\n",
       "      <td>99654.0</td>\n",
       "      <td>123 PROFESSIONAL PARK DR, MOORESVILLE, NC, 28117</td>\n",
       "      <td>True</td>\n",
       "      <td>35.557215</td>\n",
       "      <td>-80.854539</td>\n",
       "    </tr>\n",
       "  </tbody>\n",
       "</table>\n",
       "</div>"
      ],
      "text/plain": [
       "            NPI                               Name     Telephone       City  \\\n",
       "0  1.689920e+09  ALCHEMY ORTHOTICS AND PROSTHETICS  9.075621e+09  FAIRBANKS   \n",
       "1  1.952445e+09           NORTHERN ORTHOPEDICS INC  9.073574e+09    WASILLA   \n",
       "\n",
       "  State2     Zip5                                           address  match  \\\n",
       "0     AK  99701.0             15301 SPECTRUM DR, ADDISON, TX, 75001   True   \n",
       "1     AK  99654.0  123 PROFESSIONAL PARK DR, MOORESVILLE, NC, 28117   True   \n",
       "\n",
       "         lat        lon  \n",
       "0  32.960742 -96.824101  \n",
       "1  35.557215 -80.854539  "
      ]
     },
     "execution_count": 33,
     "metadata": {},
     "output_type": "execute_result"
    }
   ],
   "source": [
    "# geo_pharm['rowN'] = geo_pharm['row'].astype(int)\n",
    "# gp2 = geo_pharm.sort_values(by='rowN').reset_index(drop=True)\n",
    "\n",
    "kg = ['address','match','lat','lon']\n",
    "kd = ['NPI',\n",
    "      'Provider Organization Name (Legal Business Name)',\n",
    "      'Provider Business Practice Location Address Telephone Number',\n",
    "      'City','State2','Zip5']\n",
    "final_pharm = pd.concat([combined_4[kd], geo_pharm[kg]], axis=1)\n",
    "\n",
    "final_pharm.rename(columns={'Provider Organization Name (Legal Business Name)':'Name',\n",
    "                      'Provider Business Practice Location Address Telephone Number':'Telephone'}, inplace=True)\n",
    "final_pharm.head(2)"
   ]
  },
  {
   "cell_type": "code",
   "execution_count": 34,
   "id": "b8c547cf-432a-4df5-a586-cb320f659aef",
   "metadata": {},
   "outputs": [
    {
     "data": {
      "text/html": [
       "<div>\n",
       "<style scoped>\n",
       "    .dataframe tbody tr th:only-of-type {\n",
       "        vertical-align: middle;\n",
       "    }\n",
       "\n",
       "    .dataframe tbody tr th {\n",
       "        vertical-align: top;\n",
       "    }\n",
       "\n",
       "    .dataframe thead th {\n",
       "        text-align: right;\n",
       "    }\n",
       "</style>\n",
       "<table border=\"1\" class=\"dataframe\">\n",
       "  <thead>\n",
       "    <tr style=\"text-align: right;\">\n",
       "      <th></th>\n",
       "      <th>NPI</th>\n",
       "      <th>Name</th>\n",
       "      <th>Telephone</th>\n",
       "      <th>City</th>\n",
       "      <th>State2</th>\n",
       "      <th>Zip5</th>\n",
       "      <th>address</th>\n",
       "      <th>match</th>\n",
       "      <th>lat</th>\n",
       "      <th>lon</th>\n",
       "    </tr>\n",
       "  </thead>\n",
       "  <tbody>\n",
       "    <tr>\n",
       "      <th>0</th>\n",
       "      <td>1.689920e+09</td>\n",
       "      <td>ALCHEMY ORTHOTICS AND PROSTHETICS</td>\n",
       "      <td>9.075621e+09</td>\n",
       "      <td>FAIRBANKS</td>\n",
       "      <td>AK</td>\n",
       "      <td>99701.0</td>\n",
       "      <td>15301 SPECTRUM DR, ADDISON, TX, 75001</td>\n",
       "      <td>True</td>\n",
       "      <td>32.960742</td>\n",
       "      <td>-96.824101</td>\n",
       "    </tr>\n",
       "    <tr>\n",
       "      <th>1</th>\n",
       "      <td>1.952445e+09</td>\n",
       "      <td>NORTHERN ORTHOPEDICS INC</td>\n",
       "      <td>9.073574e+09</td>\n",
       "      <td>WASILLA</td>\n",
       "      <td>AK</td>\n",
       "      <td>99654.0</td>\n",
       "      <td>123 PROFESSIONAL PARK DR, MOORESVILLE, NC, 28117</td>\n",
       "      <td>True</td>\n",
       "      <td>35.557215</td>\n",
       "      <td>-80.854539</td>\n",
       "    </tr>\n",
       "  </tbody>\n",
       "</table>\n",
       "</div>"
      ],
      "text/plain": [
       "            NPI                               Name     Telephone       City  \\\n",
       "0  1.689920e+09  ALCHEMY ORTHOTICS AND PROSTHETICS  9.075621e+09  FAIRBANKS   \n",
       "1  1.952445e+09           NORTHERN ORTHOPEDICS INC  9.073574e+09    WASILLA   \n",
       "\n",
       "  State2     Zip5                                           address  match  \\\n",
       "0     AK  99701.0             15301 SPECTRUM DR, ADDISON, TX, 75001   True   \n",
       "1     AK  99654.0  123 PROFESSIONAL PARK DR, MOORESVILLE, NC, 28117   True   \n",
       "\n",
       "         lat        lon  \n",
       "0  32.960742 -96.824101  \n",
       "1  35.557215 -80.854539  "
      ]
     },
     "execution_count": 34,
     "metadata": {},
     "output_type": "execute_result"
    }
   ],
   "source": [
    "hosp_data = final_pharm\n",
    "hosp_data = hosp_data[hosp_data['match']].copy()\n",
    "hosp_data.reset_index(inplace=True, drop=True)\n",
    "hosp_data.head(2)"
   ]
  },
  {
   "cell_type": "code",
   "execution_count": 35,
   "id": "2b520707-6141-4b78-b361-613839125389",
   "metadata": {},
   "outputs": [],
   "source": [
    "hosp_geo = gpd.GeoDataFrame(hosp_data, geometry=gpd.points_from_xy(hosp_data.lon, hosp_data.lat), crs=\"EPSG:4326\")"
   ]
  },
  {
   "cell_type": "code",
   "execution_count": 36,
   "id": "82a56810-9718-4bf0-88c2-15e96a23fa7e",
   "metadata": {},
   "outputs": [
    {
     "name": "stdout",
     "output_type": "stream",
     "text": [
      "EPSG:4269\n"
     ]
    }
   ],
   "source": [
    "cali_counties = gpd.read_file(r'tl_2019_us_county/tl_2019_us_county.shp')\n",
    "cali_outline = cali_counties.dissolve('STATEFP')\n",
    "cali_proj = cali_outline.to_crs('EPSG:5070')\n",
    "print(cali_outline.crs)"
   ]
  },
  {
   "cell_type": "code",
   "execution_count": 37,
   "id": "2a5b1095-b977-44b3-92a7-26f1a49e24d9",
   "metadata": {},
   "outputs": [],
   "source": [
    "def dissolve_buff(point_df,d,resolution):\n",
    "    bu = point_df.buffer(d,resolution)\n",
    "    geodf = gpd.GeoDataFrame(geometry=bu)\n",
    "    geodf['Const'] = 0\n",
    "    single = geodf.dissolve('Const')\n",
    "    return single[['geometry']]"
   ]
  },
  {
   "cell_type": "code",
   "execution_count": 38,
   "id": "79e8e408-48a3-4503-9421-ab0099a1afd5",
   "metadata": {},
   "outputs": [],
   "source": [
    "def dist_cont(point_df,dist_list,outside,buff_res):\n",
    "    if point_df.crs != outside.crs:\n",
    "        print('Point df and Outside df are not the same CRS')\n",
    "        return None\n",
    "    # Making outside area out dissolved object\n",
    "    out_cop = outside[['geometry']].copy()\n",
    "    out_cop['Constant'] = 1\n",
    "    out_cop = out_cop.dissolve('Constant')\n",
    "    # Make sure points are inside area\n",
    "    inside = point_df.within(out_cop['geometry'][1])\n",
    "    point_cop = point_df[inside].copy()\n",
    "    point_cop = point_df.copy()\n",
    "    point_cop['Constant'] = 1 #Constant for dissolve\n",
    "    point_cop = point_cop[['Constant','geometry']].copy()\n",
    "    res_buffers = []\n",
    "    for i,d in enumerate(dist_list):\n",
    "        print(f'Doing buffer {d}')\n",
    "        if i == 0:\n",
    "            res = dissolve_buff(point_cop, d, buff_res)\n",
    "            res_buffers.append(res.copy())\n",
    "        else:\n",
    "            res_new = dissolve_buff(point_cop, d, buff_res)\n",
    "            res_buffonly = gpd.overlay(res_new, res, how='difference')\n",
    "            res = res_new.copy()\n",
    "            res_buffers.append( res_buffonly.copy() )\n",
    "    # Now take the difference with the larger area\n",
    "    print('Working on leftover difference now')\n",
    "    leftover = gpd.overlay(out_cop, res, how='difference')\n",
    "    res_buffers.append(leftover)\n",
    "    for i,d in enumerate(dist_list):\n",
    "        res_buffers[i]['Distance'] = str(d)\n",
    "    res_buffers[-1]['Distance'] = 'Outside'\n",
    "    # New geopandas DF\n",
    "    comb_df = pd.concat(res_buffers)\n",
    "    comb_df.reset_index(inplace=True, drop=True)\n",
    "    return comb_df"
   ]
  },
  {
   "cell_type": "code",
   "execution_count": 39,
   "id": "6ea49729-e0af-417a-ae36-50477bbb0864",
   "metadata": {},
   "outputs": [
    {
     "name": "stdout",
     "output_type": "stream",
     "text": [
      "Doing buffer 2000\n",
      "Doing buffer 4000\n",
      "Doing buffer 8000\n",
      "Doing buffer 16000\n",
      "Working on leftover difference now\n"
     ]
    }
   ],
   "source": [
    "hos_proj = hosp_geo.to_crs('EPSG:5070') #'epsg:4269'\n",
    "\n",
    "dist_met = [2000, 4000, 8000, 16000] #, 32000\n",
    "buff_city = dist_cont(hos_proj, dist_met, cali_proj, buff_res=100)"
   ]
  },
  {
   "cell_type": "code",
   "execution_count": 40,
   "id": "a2818e24-e721-49e3-85bc-760f71910ef8",
   "metadata": {},
   "outputs": [],
   "source": [
    "#Now making folium plot\n",
    "buff_map = buff_city.to_crs('EPSG:4326')\n",
    "kv = list(hosp_geo)[1:10]"
   ]
  },
  {
   "cell_type": "code",
   "execution_count": 41,
   "id": "18375056-8110-43c2-b96f-69ae0c56c1d7",
   "metadata": {},
   "outputs": [],
   "source": [
    "#\"fill\": \"#00aa22\",\n",
    "#\"fill-opacity\": 0.5\n",
    "\n",
    "cols = ['#f1eef6',\n",
    "'#d7b5d8',\n",
    "'#df65b0',\n",
    "'#dd1c77',\n",
    "'#980043']\n",
    "\n",
    "buff_map['fill'] = cols\n",
    "buff_map['fill-opacity'] = 0.35\n",
    "\n",
    "#os.chdir(r'D:\\Dropbox\\Dropbox\\PublicCode_Git\\Blog_Code')"
   ]
  },
  {
   "cell_type": "code",
   "execution_count": 42,
   "id": "6a71afce-493d-4f19-9268-3eb6fc9d408d",
   "metadata": {},
   "outputs": [],
   "source": [
    "buff_map.to_file('Combined_buff.geojson', driver='GeoJSON')\n",
    "hosp_geo.to_file('Combined_States.geojson', driver='GeoJSON')"
   ]
  }
 ],
 "metadata": {
  "kernelspec": {
   "display_name": "Python 3 (ipykernel)",
   "language": "python",
   "name": "python3"
  },
  "language_info": {
   "codemirror_mode": {
    "name": "ipython",
    "version": 3
   },
   "file_extension": ".py",
   "mimetype": "text/x-python",
   "name": "python",
   "nbconvert_exporter": "python",
   "pygments_lexer": "ipython3",
   "version": "3.9.15"
  }
 },
 "nbformat": 4,
 "nbformat_minor": 5
}
