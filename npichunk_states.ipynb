{
 "cells": [
  {
   "cell_type": "code",
   "execution_count": 6,
   "id": "cd737de5-f69b-46e0-9659-409b543429f5",
   "metadata": {},
   "outputs": [],
   "source": [
    "import pandas as pd\n",
    "import numpy as np\n",
    "import censusgeocode as cg\n",
    "import time\n",
    "from datetime import datetime\n",
    "\n",
    "import geopandas as gpd\n",
    "import os"
   ]
  },
  {
   "cell_type": "markdown",
   "id": "35855232-c3aa-469f-9cbe-e9992317ff7d",
   "metadata": {
    "tags": []
   },
   "source": [
    "### Settings & Functions"
   ]
  },
  {
   "cell_type": "markdown",
   "id": "f0f6778a-4368-4021-a9f7-329d8a12e094",
   "metadata": {},
   "source": [
    "1. Clinic/Center - Amputee: 261QA0900X\n",
    "2. Orthotist: 222Z00000X\n",
    "3. Prosthetist: 224P00000X\n",
    "4. Prosthetic/Orthotic Supplier:335E00000X"
   ]
  },
  {
   "cell_type": "code",
   "execution_count": 7,
   "id": "141c451e-3d71-48c8-8706-9b977c419c17",
   "metadata": {},
   "outputs": [],
   "source": [
    "keep_col = ['NPI','Entity Type Code','Provider Organization Name (Legal Business Name)',\n",
    "            'Provider First Line Business Practice Location Address',\n",
    "            'Provider Business Practice Location Address City Name',\n",
    "            'Provider Business Practice Location Address State Name',\n",
    "            'Provider Business Practice Location Address Postal Code',\n",
    "            'Provider Business Practice Location Address Telephone Number']\n",
    "\n",
    "taxon_codes = ['Healthcare Provider Taxonomy Code_' + str(i+1) for i in range(15)]\n",
    "taxonswitch_codes = ['Healthcare Provider Primary Taxonomy Switch_' + str(i+1) for i in range(15)]\n",
    "keep_col += taxon_codes\n",
    "keep_col += taxonswitch_codes\n",
    "community_pharm = ['261QA0900X','222Z00000X', '224P00000X','335E00000X']\n",
    "npi_csv = 'npidata_pfile_20050523-20230212.csv'\n",
    "\n",
    "def csv_chunks(file,chunk_size,keep_cols,row_sub):\n",
    "    header_fields = list(pd.read_csv(npi_csv, nrows=1))\n",
    "    header_locs = [header_fields.index(i) for i in keep_cols]\n",
    "    skip = 1\n",
    "    it_n = 0\n",
    "    sub_n = 0\n",
    "    ret_chunk = chunk_size\n",
    "    fin_li_dat = []\n",
    "    while ret_chunk == chunk_size:\n",
    "        file_chunk = pd.read_csv(file, usecols=header_locs, skiprows=skip, \n",
    "                     nrows=chunk_size, names=header_fields, dtype='str')\n",
    "        sub_dat = row_sub(file_chunk)\n",
    "        fin_li_dat.append( sub_dat.copy() )\n",
    "        skip += chunk_size\n",
    "        it_n += 1\n",
    "        sub_n += sub_dat.shape[0]\n",
    "        print(f'Grabbed iter {it_n} total sub n so far {sub_n}')\n",
    "        ret_chunk = file_chunk.shape[0]\n",
    "    fin_dat = pd.concat(fin_li_dat, axis=0)\n",
    "    return fin_dat"
   ]
  },
  {
   "cell_type": "code",
   "execution_count": 8,
   "id": "ae778d91-c5bf-4108-9f19-60443c4b8462",
   "metadata": {},
   "outputs": [],
   "source": [
    "end_str = [' STE', ' SUITE', ' BLDG', ' TOWER', ', #', ' UNIT',\n",
    "           ' APT', ' BUILDING',',', '#']\n",
    "\n",
    "def clean_add(address):\n",
    "    add_new = address.upper()\n",
    "    for su in end_str:\n",
    "        sf = address.find(su)\n",
    "        if sf > -1:\n",
    "            add_new = add_new[0:sf]\n",
    "    add_new = add_new.replace('.','')\n",
    "    add_new = add_new.strip()\n",
    "    return add_new"
   ]
  },
  {
   "cell_type": "code",
   "execution_count": 9,
   "id": "e2c5cc46-e0a4-4228-8bd4-98295a60c405",
   "metadata": {},
   "outputs": [],
   "source": [
    "def split_geo(df, add, city, state, zipcode, chunk_size=500):\n",
    "    df_new = df.copy()\n",
    "    df_new.reset_index(inplace=True)\n",
    "    splits = np.ceil(df_new.shape[0]/chunk_size)\n",
    "    chunk_li = np.array_split(df_new['index'], splits)\n",
    "    res_li = []\n",
    "    pick_fi = []\n",
    "    for i,c in enumerate(chunk_li):\n",
    "        # Grab data, export to csv\n",
    "        sub_data = df_new.loc[c, ['index',add,city,state,zipcode]]\n",
    "        sub_data.to_csv('temp_geo.csv',header=False,index=False)\n",
    "        # Geo the results and turn back into df\n",
    "        print(f'Geocoding round {int(i)+1} of {int(splits)}, {datetime.now()}')\n",
    "        result = cg.addressbatch('temp_geo.csv') #should try/except?\n",
    "        # May want to dump the intermediate results\n",
    "        #pi_str = f'pickres_{int(i)}.p'\n",
    "        #pickle.dump( favorite_color, open( pi_str, \"wb\" ) )\n",
    "        #pick_fi.append(pi_str.copy())\n",
    "        names = list(result[0].keys())\n",
    "        res_zl = []\n",
    "        for r in result:\n",
    "            res_zl.append(list(r.values()))\n",
    "        res_df = pd.DataFrame(res_zl, columns=names)\n",
    "        res_li.append(res_df.copy())\n",
    "        # time.sleep(10) #sleep 10 seconds to not get cutoff from request\n",
    "    final_df = pd.concat(res_li)\n",
    "    final_df.rename(columns={'id':'row'}, inplace=True)\n",
    "    final_df.reset_index(inplace=True, drop=True)\n",
    "    # Clean up csv file\n",
    "    os.remove('temp_geo.csv')\n",
    "    return final_df"
   ]
  },
  {
   "cell_type": "markdown",
   "id": "68f7234c-8dfa-4bc1-baaf-823c4fd56c78",
   "metadata": {
    "tags": []
   },
   "source": [
    "### California"
   ]
  },
  {
   "cell_type": "code",
   "execution_count": 10,
   "id": "f531553c-35e3-4441-99bc-6716b9cc1e19",
   "metadata": {},
   "outputs": [
    {
     "name": "stdout",
     "output_type": "stream",
     "text": [
      "2023-04-17 10:46:59.816034\n",
      "Grabbed iter 1 total sub n so far 67\n",
      "Grabbed iter 2 total sub n so far 191\n",
      "Grabbed iter 3 total sub n so far 345\n",
      "Grabbed iter 4 total sub n so far 448\n",
      "Grabbed iter 5 total sub n so far 529\n",
      "Grabbed iter 6 total sub n so far 664\n",
      "Grabbed iter 7 total sub n so far 761\n",
      "Grabbed iter 8 total sub n so far 846\n",
      "2023-04-17 10:49:03.966692\n"
     ]
    }
   ],
   "source": [
    "def sub_rows(data):\n",
    "    ec = data['Entity Type Code'] == \"2\"\n",
    "    st = data['Provider Business Practice Location Address State Name'] == 'CA'\n",
    "    ta = data[taxon_codes].isin(community_pharm).any(axis=1)\n",
    "    #ac = data['NPI Deactivation Reason Code'].isna()\n",
    "    all_together = ec & st & ta  #& ac \n",
    "    sub = data[all_together]\n",
    "    return sub\n",
    "\n",
    "print( datetime.now() )\n",
    "pharm_tx = csv_chunks(npi_csv, chunk_size=1000000, keep_cols=keep_col, row_sub=sub_rows)\n",
    "print( datetime.now() )\n",
    "ph_tx_ca = pharm_tx"
   ]
  },
  {
   "cell_type": "markdown",
   "id": "876ec45c-30b5-4a96-9374-63fb25b24dcb",
   "metadata": {
    "tags": []
   },
   "source": [
    "### Arizona"
   ]
  },
  {
   "cell_type": "code",
   "execution_count": 11,
   "id": "891481a2-0948-43ea-aa05-72c57946586f",
   "metadata": {},
   "outputs": [
    {
     "name": "stdout",
     "output_type": "stream",
     "text": [
      "2023-04-17 10:49:03.971693\n",
      "Grabbed iter 1 total sub n so far 7\n",
      "Grabbed iter 2 total sub n so far 35\n",
      "Grabbed iter 3 total sub n so far 52\n",
      "Grabbed iter 4 total sub n so far 77\n",
      "Grabbed iter 5 total sub n so far 101\n",
      "Grabbed iter 6 total sub n so far 142\n",
      "Grabbed iter 7 total sub n so far 178\n",
      "Grabbed iter 8 total sub n so far 202\n",
      "2023-04-17 10:51:12.112984\n"
     ]
    }
   ],
   "source": [
    "def sub_rows(data):\n",
    "    ec = data['Entity Type Code'] == \"2\"\n",
    "    st = data['Provider Business Practice Location Address State Name'] == 'AZ'\n",
    "    ta = data[taxon_codes].isin(community_pharm).any(axis=1)\n",
    "    # ac = data['NPI Deactivation Reason Code'].isna()\n",
    "    all_together = ec & st & ta #& ac \n",
    "    sub = data[all_together]\n",
    "    return sub\n",
    "\n",
    "print( datetime.now() )\n",
    "pharm_tx = csv_chunks(npi_csv, chunk_size=1000000, keep_cols=keep_col, row_sub=sub_rows)\n",
    "print( datetime.now() )\n",
    "ph_tx_az = pharm_tx"
   ]
  },
  {
   "cell_type": "markdown",
   "id": "3fd1351d-8bb6-4a90-82d7-514e5504b95a",
   "metadata": {
    "tags": []
   },
   "source": [
    "### Nevada"
   ]
  },
  {
   "cell_type": "code",
   "execution_count": 12,
   "id": "719b7cc8-ecbd-439b-b031-b20bc9afa219",
   "metadata": {},
   "outputs": [
    {
     "name": "stdout",
     "output_type": "stream",
     "text": [
      "2023-04-17 10:51:12.118867\n",
      "Grabbed iter 1 total sub n so far 4\n",
      "Grabbed iter 2 total sub n so far 18\n",
      "Grabbed iter 3 total sub n so far 28\n",
      "Grabbed iter 4 total sub n so far 36\n",
      "Grabbed iter 5 total sub n so far 46\n",
      "Grabbed iter 6 total sub n so far 62\n",
      "Grabbed iter 7 total sub n so far 78\n",
      "Grabbed iter 8 total sub n so far 102\n",
      "2023-04-17 10:53:20.702252\n"
     ]
    }
   ],
   "source": [
    "def sub_rows(data):\n",
    "    ec = data['Entity Type Code'] == \"2\"\n",
    "    st = data['Provider Business Practice Location Address State Name'] == 'NV'\n",
    "    ta = data[taxon_codes].isin(community_pharm).any(axis=1)\n",
    "    # ac = data['NPI Deactivation Reason Code'].isna()\n",
    "    all_together = ec & st & ta #& ac \n",
    "    sub = data[all_together]\n",
    "    return sub\n",
    "\n",
    "print( datetime.now() )\n",
    "pharm_tx = csv_chunks(npi_csv, chunk_size=1000000, keep_cols=keep_col, row_sub=sub_rows)\n",
    "print( datetime.now() )\n",
    "\n",
    "ph_tx_nv = pharm_tx"
   ]
  },
  {
   "cell_type": "markdown",
   "id": "4c69053a-e9a8-4e40-9258-f4ada5c7db58",
   "metadata": {
    "tags": []
   },
   "source": [
    "### Texas"
   ]
  },
  {
   "cell_type": "code",
   "execution_count": 13,
   "id": "dda810c5-c219-468f-8ea4-ffbbff298f63",
   "metadata": {},
   "outputs": [
    {
     "name": "stdout",
     "output_type": "stream",
     "text": [
      "2023-04-17 10:53:20.708325\n",
      "Grabbed iter 1 total sub n so far 55\n",
      "Grabbed iter 2 total sub n so far 189\n",
      "Grabbed iter 3 total sub n so far 283\n",
      "Grabbed iter 4 total sub n so far 361\n",
      "Grabbed iter 5 total sub n so far 442\n",
      "Grabbed iter 6 total sub n so far 572\n",
      "Grabbed iter 7 total sub n so far 667\n",
      "Grabbed iter 8 total sub n so far 748\n",
      "2023-04-17 10:55:30.779202\n"
     ]
    }
   ],
   "source": [
    "def sub_rows(data):\n",
    "    ec = data['Entity Type Code'] == \"2\"\n",
    "    st = data['Provider Business Practice Location Address State Name'] == 'TX'\n",
    "    ta = data[taxon_codes].isin(community_pharm).any(axis=1)\n",
    "    # ac = data['NPI Deactivation Reason Code'].isna()\n",
    "    all_together = ec & st & ta #& ac \n",
    "    sub = data[all_together]\n",
    "    return sub\n",
    "\n",
    "print( datetime.now() )\n",
    "pharm_tx = csv_chunks(npi_csv, chunk_size=1000000, keep_cols=keep_col, row_sub=sub_rows)\n",
    "print( datetime.now() )\n",
    "\n",
    "ph_tx_tx = pharm_tx"
   ]
  },
  {
   "cell_type": "markdown",
   "id": "83a99106-9c02-40b0-83b6-369a869cbc95",
   "metadata": {
    "tags": []
   },
   "source": [
    "### Washington"
   ]
  },
  {
   "cell_type": "code",
   "execution_count": 14,
   "id": "78925698-697c-476a-be4e-811147c670da",
   "metadata": {},
   "outputs": [
    {
     "name": "stdout",
     "output_type": "stream",
     "text": [
      "2023-04-17 10:55:30.783437\n",
      "Grabbed iter 1 total sub n so far 15\n",
      "Grabbed iter 2 total sub n so far 55\n",
      "Grabbed iter 3 total sub n so far 93\n",
      "Grabbed iter 4 total sub n so far 108\n",
      "Grabbed iter 5 total sub n so far 127\n",
      "Grabbed iter 6 total sub n so far 154\n",
      "Grabbed iter 7 total sub n so far 192\n",
      "Grabbed iter 8 total sub n so far 206\n",
      "2023-04-17 10:57:39.783803\n"
     ]
    }
   ],
   "source": [
    "def sub_rows(data):\n",
    "    ec = data['Entity Type Code'] == \"2\"\n",
    "    st = data['Provider Business Practice Location Address State Name'] == 'WA'\n",
    "    ta = data[taxon_codes].isin(community_pharm).any(axis=1)\n",
    "    # ac = data['NPI Deactivation Reason Code'].isna()\n",
    "    all_together = ec & st & ta #& ac \n",
    "    sub = data[all_together]\n",
    "    return sub\n",
    "\n",
    "print( datetime.now() )\n",
    "pharm_tx = csv_chunks(npi_csv, chunk_size=1000000, keep_cols=keep_col, row_sub=sub_rows)\n",
    "print( datetime.now() )\n",
    "\n",
    "ph_tx_wa = pharm_tx"
   ]
  },
  {
   "cell_type": "markdown",
   "id": "2b73037b-f316-4ac3-adb1-b2fd4f8a4842",
   "metadata": {
    "tags": []
   },
   "source": [
    "### Oregon"
   ]
  },
  {
   "cell_type": "code",
   "execution_count": 15,
   "id": "583c4375-7098-4ed4-8f41-1ca5939d0a31",
   "metadata": {},
   "outputs": [
    {
     "name": "stdout",
     "output_type": "stream",
     "text": [
      "2023-04-17 10:57:39.788232\n",
      "Grabbed iter 1 total sub n so far 3\n",
      "Grabbed iter 2 total sub n so far 22\n",
      "Grabbed iter 3 total sub n so far 47\n",
      "Grabbed iter 4 total sub n so far 62\n",
      "Grabbed iter 5 total sub n so far 78\n",
      "Grabbed iter 6 total sub n so far 90\n",
      "Grabbed iter 7 total sub n so far 113\n",
      "Grabbed iter 8 total sub n so far 124\n",
      "2023-04-17 10:59:47.368770\n"
     ]
    }
   ],
   "source": [
    "def sub_rows(data):\n",
    "    ec = data['Entity Type Code'] == \"2\"\n",
    "    st = data['Provider Business Practice Location Address State Name'] == 'OR'\n",
    "    ta = data[taxon_codes].isin(community_pharm).any(axis=1)\n",
    "    # ac = data['NPI Deactivation Reason Code'].isna()\n",
    "    all_together = ec & st & ta #& ac \n",
    "    sub = data[all_together]\n",
    "    return sub\n",
    "\n",
    "print( datetime.now() )\n",
    "pharm_tx = csv_chunks(npi_csv, chunk_size=1000000, keep_cols=keep_col, row_sub=sub_rows)\n",
    "print( datetime.now() )\n",
    "\n",
    "ph_tx_or = pharm_tx"
   ]
  },
  {
   "cell_type": "markdown",
   "id": "9ba67cab-19c3-41f8-b5ce-a47caf1b492e",
   "metadata": {
    "tags": []
   },
   "source": [
    "### Illinios"
   ]
  },
  {
   "cell_type": "code",
   "execution_count": 16,
   "id": "ad3f464d-6cc3-4449-83a0-1cec012372cb",
   "metadata": {},
   "outputs": [
    {
     "name": "stdout",
     "output_type": "stream",
     "text": [
      "2023-04-17 10:59:47.373541\n",
      "Grabbed iter 1 total sub n so far 29\n",
      "Grabbed iter 2 total sub n so far 82\n",
      "Grabbed iter 3 total sub n so far 114\n",
      "Grabbed iter 4 total sub n so far 137\n",
      "Grabbed iter 5 total sub n so far 190\n",
      "Grabbed iter 6 total sub n so far 263\n",
      "Grabbed iter 7 total sub n so far 329\n",
      "Grabbed iter 8 total sub n so far 352\n",
      "2023-04-17 11:01:53.896078\n"
     ]
    }
   ],
   "source": [
    "def sub_rows(data):\n",
    "    ec = data['Entity Type Code'] == \"2\"\n",
    "    st = data['Provider Business Practice Location Address State Name'] == 'IL'\n",
    "    ta = data[taxon_codes].isin(community_pharm).any(axis=1)\n",
    "    # ac = data['NPI Deactivation Reason Code'].isna()\n",
    "    all_together = ec & st & ta #& ac \n",
    "    sub = data[all_together]\n",
    "    return sub\n",
    "\n",
    "print( datetime.now() )\n",
    "pharm_tx = csv_chunks(npi_csv, chunk_size=1000000, keep_cols=keep_col, row_sub=sub_rows)\n",
    "print( datetime.now() )\n",
    "\n",
    "ph_tx_il = pharm_tx"
   ]
  },
  {
   "cell_type": "markdown",
   "id": "39044acb-b59b-40c8-a67b-48430f649487",
   "metadata": {
    "tags": []
   },
   "source": [
    "### Save csv"
   ]
  },
  {
   "cell_type": "code",
   "execution_count": 45,
   "id": "86f61eac-4fc2-4e2a-a1d1-e5b23c39b05f",
   "metadata": {},
   "outputs": [],
   "source": [
    "ph_tx = pd.concat([ph_tx_ca, ph_tx_az, ph_tx_nv, ph_tx_tx, ph_tx_wa, ph_tx_or, ph_tx_il])"
   ]
  },
  {
   "cell_type": "code",
   "execution_count": 46,
   "id": "1c933753-27a5-4150-9f1f-0a8fa1f2cc3e",
   "metadata": {},
   "outputs": [],
   "source": [
    "# ph_tx.to_csv('statesDf.csv',index=False)"
   ]
  },
  {
   "cell_type": "code",
   "execution_count": 47,
   "id": "109e6730-0c8d-4cb2-b18a-1421b5bfadbf",
   "metadata": {},
   "outputs": [
    {
     "data": {
      "text/plain": [
       "2580"
      ]
     },
     "execution_count": 47,
     "metadata": {},
     "output_type": "execute_result"
    }
   ],
   "source": [
    "len(ph_tx)"
   ]
  },
  {
   "cell_type": "markdown",
   "id": "a44d715d-d6fb-421d-a87f-03ade26dd9c5",
   "metadata": {},
   "source": [
    "### Data Cleaning"
   ]
  },
  {
   "cell_type": "code",
   "execution_count": 38,
   "id": "92745c1a-12c7-4707-a81d-f6abc8e7b0d1",
   "metadata": {},
   "outputs": [],
   "source": [
    "# ph_tx = pd.read_csv('statesDf.csv')"
   ]
  },
  {
   "cell_type": "code",
   "execution_count": 48,
   "id": "c3fa5f45-a63a-463e-8626-2646c39ae1ec",
   "metadata": {},
   "outputs": [
    {
     "data": {
      "text/html": [
       "<div>\n",
       "<style scoped>\n",
       "    .dataframe tbody tr th:only-of-type {\n",
       "        vertical-align: middle;\n",
       "    }\n",
       "\n",
       "    .dataframe tbody tr th {\n",
       "        vertical-align: top;\n",
       "    }\n",
       "\n",
       "    .dataframe thead th {\n",
       "        text-align: right;\n",
       "    }\n",
       "</style>\n",
       "<table border=\"1\" class=\"dataframe\">\n",
       "  <thead>\n",
       "    <tr style=\"text-align: right;\">\n",
       "      <th></th>\n",
       "      <th>NPI</th>\n",
       "      <th>Entity Type Code</th>\n",
       "      <th>Provider Organization Name (Legal Business Name)</th>\n",
       "      <th>Provider First Line Business Practice Location Address</th>\n",
       "      <th>City</th>\n",
       "      <th>State2</th>\n",
       "      <th>Provider Business Practice Location Address Postal Code</th>\n",
       "      <th>Provider Business Practice Location Address Telephone Number</th>\n",
       "      <th>Healthcare Provider Taxonomy Code_1</th>\n",
       "      <th>Healthcare Provider Primary Taxonomy Switch_1</th>\n",
       "      <th>...</th>\n",
       "      <th>Healthcare Provider Taxonomy Code_12</th>\n",
       "      <th>Healthcare Provider Primary Taxonomy Switch_12</th>\n",
       "      <th>Healthcare Provider Taxonomy Code_13</th>\n",
       "      <th>Healthcare Provider Primary Taxonomy Switch_13</th>\n",
       "      <th>Healthcare Provider Taxonomy Code_14</th>\n",
       "      <th>Healthcare Provider Primary Taxonomy Switch_14</th>\n",
       "      <th>Healthcare Provider Taxonomy Code_15</th>\n",
       "      <th>Healthcare Provider Primary Taxonomy Switch_15</th>\n",
       "      <th>Zip5</th>\n",
       "      <th>Address</th>\n",
       "    </tr>\n",
       "  </thead>\n",
       "  <tbody>\n",
       "    <tr>\n",
       "      <th>0</th>\n",
       "      <td>1548468614</td>\n",
       "      <td>2</td>\n",
       "      <td>DIMENSION PROSTHETICS &amp; ORTHOTICS</td>\n",
       "      <td>33374 DOWE AVE</td>\n",
       "      <td>UNION CITY</td>\n",
       "      <td>CA</td>\n",
       "      <td>94587</td>\n",
       "      <td>5103243400</td>\n",
       "      <td>335E00000X</td>\n",
       "      <td>Y</td>\n",
       "      <td>...</td>\n",
       "      <td>NaN</td>\n",
       "      <td>NaN</td>\n",
       "      <td>NaN</td>\n",
       "      <td>NaN</td>\n",
       "      <td>NaN</td>\n",
       "      <td>NaN</td>\n",
       "      <td>NaN</td>\n",
       "      <td>NaN</td>\n",
       "      <td>94587</td>\n",
       "      <td>33374 DOWE AVE</td>\n",
       "    </tr>\n",
       "    <tr>\n",
       "      <th>1</th>\n",
       "      <td>1952507303</td>\n",
       "      <td>2</td>\n",
       "      <td>SOUND BALANCE AUDIOLOGY, INC</td>\n",
       "      <td>2420 VISTA WAY</td>\n",
       "      <td>OCEANSIDE</td>\n",
       "      <td>CA</td>\n",
       "      <td>92054</td>\n",
       "      <td>7607217417</td>\n",
       "      <td>335E00000X</td>\n",
       "      <td>Y</td>\n",
       "      <td>...</td>\n",
       "      <td>NaN</td>\n",
       "      <td>NaN</td>\n",
       "      <td>NaN</td>\n",
       "      <td>NaN</td>\n",
       "      <td>NaN</td>\n",
       "      <td>NaN</td>\n",
       "      <td>NaN</td>\n",
       "      <td>NaN</td>\n",
       "      <td>92054</td>\n",
       "      <td>2420 VISTA WAY</td>\n",
       "    </tr>\n",
       "  </tbody>\n",
       "</table>\n",
       "<p>2 rows × 40 columns</p>\n",
       "</div>"
      ],
      "text/plain": [
       "          NPI Entity Type Code  \\\n",
       "0  1548468614                2   \n",
       "1  1952507303                2   \n",
       "\n",
       "  Provider Organization Name (Legal Business Name)  \\\n",
       "0                DIMENSION PROSTHETICS & ORTHOTICS   \n",
       "1                     SOUND BALANCE AUDIOLOGY, INC   \n",
       "\n",
       "  Provider First Line Business Practice Location Address        City State2  \\\n",
       "0                                     33374 DOWE AVE      UNION CITY     CA   \n",
       "1                                     2420 VISTA WAY       OCEANSIDE     CA   \n",
       "\n",
       "  Provider Business Practice Location Address Postal Code  \\\n",
       "0                                              94587        \n",
       "1                                              92054        \n",
       "\n",
       "  Provider Business Practice Location Address Telephone Number  \\\n",
       "0                                         5103243400             \n",
       "1                                         7607217417             \n",
       "\n",
       "  Healthcare Provider Taxonomy Code_1  \\\n",
       "0                          335E00000X   \n",
       "1                          335E00000X   \n",
       "\n",
       "  Healthcare Provider Primary Taxonomy Switch_1  ...  \\\n",
       "0                                             Y  ...   \n",
       "1                                             Y  ...   \n",
       "\n",
       "  Healthcare Provider Taxonomy Code_12  \\\n",
       "0                                  NaN   \n",
       "1                                  NaN   \n",
       "\n",
       "  Healthcare Provider Primary Taxonomy Switch_12  \\\n",
       "0                                            NaN   \n",
       "1                                            NaN   \n",
       "\n",
       "  Healthcare Provider Taxonomy Code_13  \\\n",
       "0                                  NaN   \n",
       "1                                  NaN   \n",
       "\n",
       "  Healthcare Provider Primary Taxonomy Switch_13  \\\n",
       "0                                            NaN   \n",
       "1                                            NaN   \n",
       "\n",
       "  Healthcare Provider Taxonomy Code_14  \\\n",
       "0                                  NaN   \n",
       "1                                  NaN   \n",
       "\n",
       "  Healthcare Provider Primary Taxonomy Switch_14  \\\n",
       "0                                            NaN   \n",
       "1                                            NaN   \n",
       "\n",
       "  Healthcare Provider Taxonomy Code_15  \\\n",
       "0                                  NaN   \n",
       "1                                  NaN   \n",
       "\n",
       "  Healthcare Provider Primary Taxonomy Switch_15   Zip5         Address  \n",
       "0                                            NaN  94587  33374 DOWE AVE  \n",
       "1                                            NaN  92054  2420 VISTA WAY  \n",
       "\n",
       "[2 rows x 40 columns]"
      ]
     },
     "execution_count": 48,
     "metadata": {},
     "output_type": "execute_result"
    }
   ],
   "source": [
    "ph_tx['Provider Business Practice Location Address Postal Code'] = ph_tx['Provider Business Practice Location Address Postal Code'].str[0:5]\n",
    "ph_tx['Zip5'] = ph_tx['Provider Business Practice Location Address Postal Code'].str[0:5]\n",
    "ph_tx['Address'] = ph_tx['Provider First Line Business Practice Location Address'].apply(clean_add)\n",
    "\n",
    "ph_tx.rename(columns={'Provider Business Practice Location Address City Name':'City',\n",
    "                      'Provider Business Practice Location Address State Name':'State2'},\n",
    "             inplace=True)\n",
    "ph_tx = ph_tx[-ph_tx['Provider Organization Name (Legal Business Name)'].str.contains(\"NORDSTROM\")].reset_index(drop = True)\n",
    "ph_tx.head(2)"
   ]
  },
  {
   "cell_type": "code",
   "execution_count": 70,
   "id": "0f274519-7e3c-429e-9be7-8ce9859b8dcf",
   "metadata": {},
   "outputs": [],
   "source": [
    "newc = []\n",
    "for n in range(len(ph_tx)):\n",
    "    for i in range(15):\n",
    "        if ph_tx.iloc[n]['Healthcare Provider Primary Taxonomy Switch_' + str(i+1)] == 'Y':\n",
    "            v = ph_tx.iloc[n]['Healthcare Provider Taxonomy Code_' + str(i+1)]\n",
    "    newc.append(v)"
   ]
  },
  {
   "cell_type": "code",
   "execution_count": 71,
   "id": "1edff9d4-f260-4c0d-b1af-3434beabffe2",
   "metadata": {},
   "outputs": [],
   "source": [
    "ph_tx = ph_tx.drop(columns=taxon_codes+taxonswitch_codes).reset_index(drop=True)\n",
    "ph_tx['taxonomy'] = newc\n",
    "ph_tx = ph_tx[ph_tx['taxonomy'].isin(community_pharm)]"
   ]
  },
  {
   "cell_type": "code",
   "execution_count": 73,
   "id": "0cdf2b5e-87ed-4347-8c7c-0511eddca4cb",
   "metadata": {},
   "outputs": [],
   "source": [
    "ph_tx2 = ph_tx[ph_tx['taxonomy'].str.contains(\"261QA0900X\")]"
   ]
  },
  {
   "cell_type": "code",
   "execution_count": 75,
   "id": "8bbd691c-3c10-4f0b-abdc-543f53c2ed17",
   "metadata": {},
   "outputs": [],
   "source": [
    "ph_tx = ph_tx[ph_tx['Provider Organization Name (Legal Business Name)'].str.contains(\"ORTHO|PROS|P&O|LIMB\")].reset_index(drop = True)"
   ]
  },
  {
   "cell_type": "code",
   "execution_count": 89,
   "id": "7f0b3bda-9ce4-4fa2-a485-123ad906448e",
   "metadata": {},
   "outputs": [],
   "source": [
    "# ph_tx2"
   ]
  },
  {
   "cell_type": "code",
   "execution_count": 90,
   "id": "dadc36ae-3d83-4fb0-918b-1bd708e18787",
   "metadata": {},
   "outputs": [
    {
     "data": {
      "text/plain": [
       "1082"
      ]
     },
     "execution_count": 90,
     "metadata": {},
     "output_type": "execute_result"
    }
   ],
   "source": [
    "len(ph_tx)"
   ]
  },
  {
   "cell_type": "code",
   "execution_count": 91,
   "id": "fb0ab248-cec8-45e7-b7af-348419b7b023",
   "metadata": {},
   "outputs": [],
   "source": [
    "ph_tx_3 = pd.concat([ph_tx, ph_tx2]).drop_duplicates()"
   ]
  },
  {
   "cell_type": "code",
   "execution_count": 92,
   "id": "2537cc0e-0d56-4745-9145-6247e74f5fee",
   "metadata": {},
   "outputs": [
    {
     "data": {
      "text/plain": [
       "(1087, 11)"
      ]
     },
     "execution_count": 92,
     "metadata": {},
     "output_type": "execute_result"
    }
   ],
   "source": [
    "ph_tx_3.shape"
   ]
  },
  {
   "cell_type": "code",
   "execution_count": null,
   "id": "96b901a5-c7d8-431c-9e12-2e0f4c48eec3",
   "metadata": {},
   "outputs": [],
   "source": []
  },
  {
   "cell_type": "markdown",
   "id": "120c0ce8-8231-4d50-867e-001126d48e44",
   "metadata": {
    "tags": []
   },
   "source": [
    "### Geo coding"
   ]
  },
  {
   "cell_type": "code",
   "execution_count": 93,
   "id": "deefcfd7-18fe-4e07-a365-ab4d9d576ccd",
   "metadata": {},
   "outputs": [
    {
     "name": "stdout",
     "output_type": "stream",
     "text": [
      "Geocoding round 1 of 3, 2023-04-17 23:15:24.923594\n",
      "Geocoding round 2 of 3, 2023-04-17 23:15:32.101580\n",
      "Geocoding round 3 of 3, 2023-04-17 23:15:56.364231\n",
      "True     975\n",
      "False    111\n",
      "Name: match, dtype: int64\n"
     ]
    }
   ],
   "source": [
    "geo_pharm = split_geo(ph_tx_3, add='Address', city='City', state='State2', zipcode='Zip5', chunk_size=500)\n",
    "print(geo_pharm['match'].value_counts())"
   ]
  },
  {
   "cell_type": "code",
   "execution_count": 94,
   "id": "795d31a0-d7eb-4855-9fba-9dd7742fe995",
   "metadata": {},
   "outputs": [
    {
     "data": {
      "text/html": [
       "<div>\n",
       "<style scoped>\n",
       "    .dataframe tbody tr th:only-of-type {\n",
       "        vertical-align: middle;\n",
       "    }\n",
       "\n",
       "    .dataframe tbody tr th {\n",
       "        vertical-align: top;\n",
       "    }\n",
       "\n",
       "    .dataframe thead th {\n",
       "        text-align: right;\n",
       "    }\n",
       "</style>\n",
       "<table border=\"1\" class=\"dataframe\">\n",
       "  <thead>\n",
       "    <tr style=\"text-align: right;\">\n",
       "      <th></th>\n",
       "      <th>NPI</th>\n",
       "      <th>Name</th>\n",
       "      <th>Telephone</th>\n",
       "      <th>City</th>\n",
       "      <th>State2</th>\n",
       "      <th>Zip5</th>\n",
       "      <th>address</th>\n",
       "      <th>match</th>\n",
       "      <th>lat</th>\n",
       "      <th>lon</th>\n",
       "    </tr>\n",
       "  </thead>\n",
       "  <tbody>\n",
       "    <tr>\n",
       "      <th>0</th>\n",
       "      <td>1548468614</td>\n",
       "      <td>DIMENSION PROSTHETICS &amp; ORTHOTICS</td>\n",
       "      <td>5103243400</td>\n",
       "      <td>UNION CITY</td>\n",
       "      <td>CA</td>\n",
       "      <td>94587</td>\n",
       "      <td>33374 DOWE AVE, UNION CITY, CA, 94587</td>\n",
       "      <td>True</td>\n",
       "      <td>37.601059</td>\n",
       "      <td>-122.043522</td>\n",
       "    </tr>\n",
       "    <tr>\n",
       "      <th>1</th>\n",
       "      <td>1386652774</td>\n",
       "      <td>HANGER PROSTHETICS &amp; ORTHOTICS WEST, INC.</td>\n",
       "      <td>5306764856</td>\n",
       "      <td>CAMERON PARK</td>\n",
       "      <td>CA</td>\n",
       "      <td>95682</td>\n",
       "      <td>3460 ROBIN LN, CAMERON PARK, CA, 95682</td>\n",
       "      <td>True</td>\n",
       "      <td>38.656019</td>\n",
       "      <td>-120.968221</td>\n",
       "    </tr>\n",
       "  </tbody>\n",
       "</table>\n",
       "</div>"
      ],
      "text/plain": [
       "          NPI                                       Name   Telephone  \\\n",
       "0  1548468614          DIMENSION PROSTHETICS & ORTHOTICS  5103243400   \n",
       "1  1386652774  HANGER PROSTHETICS & ORTHOTICS WEST, INC.  5306764856   \n",
       "\n",
       "           City State2   Zip5                                 address  match  \\\n",
       "0    UNION CITY     CA  94587   33374 DOWE AVE, UNION CITY, CA, 94587   True   \n",
       "1  CAMERON PARK     CA  95682  3460 ROBIN LN, CAMERON PARK, CA, 95682   True   \n",
       "\n",
       "         lat         lon  \n",
       "0  37.601059 -122.043522  \n",
       "1  38.656019 -120.968221  "
      ]
     },
     "execution_count": 94,
     "metadata": {},
     "output_type": "execute_result"
    }
   ],
   "source": [
    "geo_pharm['rowN'] = geo_pharm['row'].astype(int)\n",
    "gp2 = geo_pharm.sort_values(by='rowN').reset_index(drop=True)\n",
    "\n",
    "kg = ['address','match','lat','lon']\n",
    "kd = ['NPI',\n",
    "      'Provider Organization Name (Legal Business Name)',\n",
    "      'Provider Business Practice Location Address Telephone Number',\n",
    "      'City','State2','Zip5']\n",
    "final_pharm = pd.concat([ph_tx[kd], gp2[kg]], axis=1)\n",
    "\n",
    "final_pharm.rename(columns={'Provider Organization Name (Legal Business Name)':'Name',\n",
    "                      'Provider Business Practice Location Address Telephone Number':'Telephone'}, inplace=True)\n",
    "final_pharm.head(2)"
   ]
  },
  {
   "cell_type": "markdown",
   "id": "1361a53c-d56d-4cbb-ac2b-f288b3632685",
   "metadata": {
    "tags": []
   },
   "source": [
    "### Gjson"
   ]
  },
  {
   "cell_type": "code",
   "execution_count": 95,
   "id": "ee47c315-4a29-4cf4-b6e6-26f1042dd0f5",
   "metadata": {},
   "outputs": [
    {
     "data": {
      "text/html": [
       "<div>\n",
       "<style scoped>\n",
       "    .dataframe tbody tr th:only-of-type {\n",
       "        vertical-align: middle;\n",
       "    }\n",
       "\n",
       "    .dataframe tbody tr th {\n",
       "        vertical-align: top;\n",
       "    }\n",
       "\n",
       "    .dataframe thead th {\n",
       "        text-align: right;\n",
       "    }\n",
       "</style>\n",
       "<table border=\"1\" class=\"dataframe\">\n",
       "  <thead>\n",
       "    <tr style=\"text-align: right;\">\n",
       "      <th></th>\n",
       "      <th>NPI</th>\n",
       "      <th>Name</th>\n",
       "      <th>Telephone</th>\n",
       "      <th>City</th>\n",
       "      <th>State2</th>\n",
       "      <th>Zip5</th>\n",
       "      <th>address</th>\n",
       "      <th>match</th>\n",
       "      <th>lat</th>\n",
       "      <th>lon</th>\n",
       "    </tr>\n",
       "  </thead>\n",
       "  <tbody>\n",
       "    <tr>\n",
       "      <th>0</th>\n",
       "      <td>1548468614</td>\n",
       "      <td>DIMENSION PROSTHETICS &amp; ORTHOTICS</td>\n",
       "      <td>5103243400</td>\n",
       "      <td>UNION CITY</td>\n",
       "      <td>CA</td>\n",
       "      <td>94587</td>\n",
       "      <td>33374 DOWE AVE, UNION CITY, CA, 94587</td>\n",
       "      <td>True</td>\n",
       "      <td>37.601059</td>\n",
       "      <td>-122.043522</td>\n",
       "    </tr>\n",
       "    <tr>\n",
       "      <th>1</th>\n",
       "      <td>1386652774</td>\n",
       "      <td>HANGER PROSTHETICS &amp; ORTHOTICS WEST, INC.</td>\n",
       "      <td>5306764856</td>\n",
       "      <td>CAMERON PARK</td>\n",
       "      <td>CA</td>\n",
       "      <td>95682</td>\n",
       "      <td>3460 ROBIN LN, CAMERON PARK, CA, 95682</td>\n",
       "      <td>True</td>\n",
       "      <td>38.656019</td>\n",
       "      <td>-120.968221</td>\n",
       "    </tr>\n",
       "  </tbody>\n",
       "</table>\n",
       "</div>"
      ],
      "text/plain": [
       "          NPI                                       Name   Telephone  \\\n",
       "0  1548468614          DIMENSION PROSTHETICS & ORTHOTICS  5103243400   \n",
       "1  1386652774  HANGER PROSTHETICS & ORTHOTICS WEST, INC.  5306764856   \n",
       "\n",
       "           City State2   Zip5                                 address  match  \\\n",
       "0    UNION CITY     CA  94587   33374 DOWE AVE, UNION CITY, CA, 94587   True   \n",
       "1  CAMERON PARK     CA  95682  3460 ROBIN LN, CAMERON PARK, CA, 95682   True   \n",
       "\n",
       "         lat         lon  \n",
       "0  37.601059 -122.043522  \n",
       "1  38.656019 -120.968221  "
      ]
     },
     "execution_count": 95,
     "metadata": {},
     "output_type": "execute_result"
    }
   ],
   "source": [
    "hosp_data = final_pharm\n",
    "hosp_data = hosp_data[hosp_data['match']].copy()\n",
    "hosp_data.reset_index(inplace=True, drop=True)\n",
    "hosp_data.head(2)"
   ]
  },
  {
   "cell_type": "code",
   "execution_count": 96,
   "id": "9aec9325-8358-44af-b811-cbe319dea806",
   "metadata": {},
   "outputs": [],
   "source": [
    "hosp_geo = gpd.GeoDataFrame(hosp_data, geometry=gpd.points_from_xy(hosp_data.lon, hosp_data.lat), crs=\"EPSG:4326\")"
   ]
  },
  {
   "cell_type": "code",
   "execution_count": 97,
   "id": "140a08fb-b649-4f16-9f5b-dd20b9d92841",
   "metadata": {},
   "outputs": [
    {
     "name": "stdout",
     "output_type": "stream",
     "text": [
      "EPSG:4269\n"
     ]
    }
   ],
   "source": [
    "cali_counties = gpd.read_file(r'tl_2019_us_county/tl_2019_us_county.shp')\n",
    "cali_outline = cali_counties.dissolve('STATEFP')\n",
    "cali_proj = cali_outline.to_crs('EPSG:5070')\n",
    "print(cali_outline.crs)"
   ]
  },
  {
   "cell_type": "code",
   "execution_count": 98,
   "id": "474bf11d-04b1-4309-8139-4ff659eb5e22",
   "metadata": {},
   "outputs": [],
   "source": [
    "def dissolve_buff(point_df,d,resolution):\n",
    "    bu = point_df.buffer(d,resolution)\n",
    "    geodf = gpd.GeoDataFrame(geometry=bu)\n",
    "    geodf['Const'] = 0\n",
    "    single = geodf.dissolve('Const')\n",
    "    return single[['geometry']]"
   ]
  },
  {
   "cell_type": "code",
   "execution_count": 99,
   "id": "5c00012f-c3d6-4edd-8406-d1e8284525af",
   "metadata": {},
   "outputs": [],
   "source": [
    "def dist_cont(point_df,dist_list,outside,buff_res):\n",
    "    if point_df.crs != outside.crs:\n",
    "        print('Point df and Outside df are not the same CRS')\n",
    "        return None\n",
    "    # Making outside area out dissolved object\n",
    "    out_cop = outside[['geometry']].copy()\n",
    "    out_cop['Constant'] = 1\n",
    "    out_cop = out_cop.dissolve('Constant')\n",
    "    # Make sure points are inside area\n",
    "    inside = point_df.within(out_cop['geometry'][1])\n",
    "    point_cop = point_df[inside].copy()\n",
    "    point_cop = point_df.copy()\n",
    "    point_cop['Constant'] = 1 #Constant for dissolve\n",
    "    point_cop = point_cop[['Constant','geometry']].copy()\n",
    "    res_buffers = []\n",
    "    for i,d in enumerate(dist_list):\n",
    "        print(f'Doing buffer {d}')\n",
    "        if i == 0:\n",
    "            res = dissolve_buff(point_cop, d, buff_res)\n",
    "            res_buffers.append(res.copy())\n",
    "        else:\n",
    "            res_new = dissolve_buff(point_cop, d, buff_res)\n",
    "            res_buffonly = gpd.overlay(res_new, res, how='difference')\n",
    "            res = res_new.copy()\n",
    "            res_buffers.append( res_buffonly.copy() )\n",
    "    # Now take the difference with the larger area\n",
    "    print('Working on leftover difference now')\n",
    "    leftover = gpd.overlay(out_cop, res, how='difference')\n",
    "    res_buffers.append(leftover)\n",
    "    for i,d in enumerate(dist_list):\n",
    "        res_buffers[i]['Distance'] = str(d)\n",
    "    res_buffers[-1]['Distance'] = 'Outside'\n",
    "    # New geopandas DF\n",
    "    comb_df = pd.concat(res_buffers)\n",
    "    comb_df.reset_index(inplace=True, drop=True)\n",
    "    return comb_df"
   ]
  },
  {
   "cell_type": "code",
   "execution_count": 100,
   "id": "d051eba8-807f-45ff-a341-08f2ddc77dac",
   "metadata": {},
   "outputs": [
    {
     "name": "stdout",
     "output_type": "stream",
     "text": [
      "Doing buffer 2000\n",
      "Doing buffer 4000\n",
      "Doing buffer 8000\n",
      "Doing buffer 16000\n",
      "Working on leftover difference now\n"
     ]
    }
   ],
   "source": [
    "hos_proj = hosp_geo.to_crs('EPSG:5070') #'epsg:4269'\n",
    "\n",
    "dist_met = [2000, 4000, 8000, 16000] #, 32000\n",
    "buff_city = dist_cont(hos_proj, dist_met, cali_proj, buff_res=100)"
   ]
  },
  {
   "cell_type": "code",
   "execution_count": 101,
   "id": "78ad6526-34f9-4b79-9e32-e839ee04f4cb",
   "metadata": {},
   "outputs": [],
   "source": [
    "#Now making folium plot\n",
    "buff_map = buff_city.to_crs('EPSG:4326')\n",
    "kv = list(hosp_geo)[1:10]"
   ]
  },
  {
   "cell_type": "code",
   "execution_count": 102,
   "id": "eaf98184-a213-400c-8a62-7715076c59a1",
   "metadata": {},
   "outputs": [],
   "source": [
    "#\"fill\": \"#00aa22\",\n",
    "#\"fill-opacity\": 0.5\n",
    "\n",
    "cols = ['#f1eef6',\n",
    "'#d7b5d8',\n",
    "'#df65b0',\n",
    "'#dd1c77',\n",
    "'#980043']\n",
    "\n",
    "buff_map['fill'] = cols\n",
    "buff_map['fill-opacity'] = 0.35\n",
    "\n",
    "#os.chdir(r'D:\\Dropbox\\Dropbox\\PublicCode_Git\\Blog_Code')"
   ]
  },
  {
   "cell_type": "markdown",
   "id": "0d899502-0481-4b66-98a8-26d914db6a47",
   "metadata": {},
   "source": [
    "### Save gjson"
   ]
  },
  {
   "cell_type": "code",
   "execution_count": 103,
   "id": "a1dcb346-cb2c-4589-a86d-0d6b1b010fbc",
   "metadata": {},
   "outputs": [],
   "source": [
    "buff_map.to_file('Buffers_States.geojson', driver='GeoJSON')\n",
    "hosp_geo.to_file('Hosp_States.geojson', driver='GeoJSON')"
   ]
  },
  {
   "cell_type": "code",
   "execution_count": null,
   "id": "1f891af4-e784-4034-850b-11ed35cf4a80",
   "metadata": {},
   "outputs": [],
   "source": []
  },
  {
   "cell_type": "code",
   "execution_count": null,
   "id": "d778ff95-81c2-417f-8a9e-f0a46dc2f44c",
   "metadata": {},
   "outputs": [],
   "source": []
  },
  {
   "cell_type": "code",
   "execution_count": null,
   "id": "87a14df6-0a5a-4b56-83e6-6ef16d4d6dad",
   "metadata": {},
   "outputs": [],
   "source": []
  }
 ],
 "metadata": {
  "kernelspec": {
   "display_name": "Python 3 (ipykernel)",
   "language": "python",
   "name": "python3"
  },
  "language_info": {
   "codemirror_mode": {
    "name": "ipython",
    "version": 3
   },
   "file_extension": ".py",
   "mimetype": "text/x-python",
   "name": "python",
   "nbconvert_exporter": "python",
   "pygments_lexer": "ipython3",
   "version": "3.9.15"
  }
 },
 "nbformat": 4,
 "nbformat_minor": 5
}
