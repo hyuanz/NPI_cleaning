{
 "cells": [
  {
   "cell_type": "code",
   "execution_count": 1,
   "id": "9a3240c9-fba8-4c96-918b-1bd7bb98ec90",
   "metadata": {},
   "outputs": [],
   "source": [
    "# pip install geopandas"
   ]
  },
  {
   "cell_type": "code",
   "execution_count": 2,
   "id": "9fbf80b6-77b1-458d-99e6-7027a7bd7a44",
   "metadata": {},
   "outputs": [],
   "source": [
    "import geopandas as gpd\n",
    "import pandas as pd\n",
    "import os"
   ]
  },
  {
   "cell_type": "code",
   "execution_count": 3,
   "id": "81949768-da8d-4e8f-a6c2-b655f9157926",
   "metadata": {},
   "outputs": [
    {
     "data": {
      "text/plain": [
       "'/Users/hayley/Jupyterlab'"
      ]
     },
     "execution_count": 3,
     "metadata": {},
     "output_type": "execute_result"
    }
   ],
   "source": [
    "os.getcwd()"
   ]
  },
  {
   "cell_type": "code",
   "execution_count": 4,
   "id": "836824f1-af93-430a-9750-de1446084d92",
   "metadata": {},
   "outputs": [
    {
     "data": {
      "text/html": [
       "<div>\n",
       "<style scoped>\n",
       "    .dataframe tbody tr th:only-of-type {\n",
       "        vertical-align: middle;\n",
       "    }\n",
       "\n",
       "    .dataframe tbody tr th {\n",
       "        vertical-align: top;\n",
       "    }\n",
       "\n",
       "    .dataframe thead th {\n",
       "        text-align: right;\n",
       "    }\n",
       "</style>\n",
       "<table border=\"1\" class=\"dataframe\">\n",
       "  <thead>\n",
       "    <tr style=\"text-align: right;\">\n",
       "      <th></th>\n",
       "      <th>NPI</th>\n",
       "      <th>Provider Organization Name (Legal Business Name)</th>\n",
       "      <th>Provider First Line Business Practice Location Address</th>\n",
       "      <th>Provider Business Practice Location Address Telephone Number</th>\n",
       "      <th>Address</th>\n",
       "      <th>City</th>\n",
       "      <th>State2</th>\n",
       "      <th>Zip5</th>\n",
       "      <th>address</th>\n",
       "      <th>match</th>\n",
       "      <th>lat</th>\n",
       "      <th>lon</th>\n",
       "    </tr>\n",
       "  </thead>\n",
       "  <tbody>\n",
       "    <tr>\n",
       "      <th>0</th>\n",
       "      <td>1548468614</td>\n",
       "      <td>DIMENSION PROSTHETICS &amp; ORTHOTICS</td>\n",
       "      <td>33374 DOWE AVE</td>\n",
       "      <td>5103243400</td>\n",
       "      <td>33374 DOWE AVE</td>\n",
       "      <td>UNION CITY</td>\n",
       "      <td>CA</td>\n",
       "      <td>94587</td>\n",
       "      <td>33374 DOWE AVE, UNION CITY, CA, 94587</td>\n",
       "      <td>True</td>\n",
       "      <td>37.601059</td>\n",
       "      <td>-122.043522</td>\n",
       "    </tr>\n",
       "    <tr>\n",
       "      <th>1</th>\n",
       "      <td>1952507303</td>\n",
       "      <td>SOUND BALANCE AUDIOLOGY, INC</td>\n",
       "      <td>2420 VISTA WAY</td>\n",
       "      <td>7607217417</td>\n",
       "      <td>2420 VISTA WAY</td>\n",
       "      <td>OCEANSIDE</td>\n",
       "      <td>CA</td>\n",
       "      <td>92054</td>\n",
       "      <td>2420 VISTA WAY, OCEANSIDE, CA, 92054</td>\n",
       "      <td>True</td>\n",
       "      <td>33.183241</td>\n",
       "      <td>-117.334400</td>\n",
       "    </tr>\n",
       "  </tbody>\n",
       "</table>\n",
       "</div>"
      ],
      "text/plain": [
       "          NPI Provider Organization Name (Legal Business Name)  \\\n",
       "0  1548468614                DIMENSION PROSTHETICS & ORTHOTICS   \n",
       "1  1952507303                     SOUND BALANCE AUDIOLOGY, INC   \n",
       "\n",
       "  Provider First Line Business Practice Location Address  \\\n",
       "0                                     33374 DOWE AVE       \n",
       "1                                     2420 VISTA WAY       \n",
       "\n",
       "   Provider Business Practice Location Address Telephone Number  \\\n",
       "0                                         5103243400              \n",
       "1                                         7607217417              \n",
       "\n",
       "          Address        City State2   Zip5  \\\n",
       "0  33374 DOWE AVE  UNION CITY     CA  94587   \n",
       "1  2420 VISTA WAY   OCEANSIDE     CA  92054   \n",
       "\n",
       "                                 address  match        lat         lon  \n",
       "0  33374 DOWE AVE, UNION CITY, CA, 94587   True  37.601059 -122.043522  \n",
       "1   2420 VISTA WAY, OCEANSIDE, CA, 92054   True  33.183241 -117.334400  "
      ]
     },
     "execution_count": 4,
     "metadata": {},
     "output_type": "execute_result"
    }
   ],
   "source": [
    "hosp_data = pd.read_csv('clinics_Cali.csv')\n",
    "hosp_data = hosp_data[hosp_data['match']].copy()\n",
    "hosp_data.reset_index(inplace=True, drop=True)\n",
    "hosp_data.head(2)"
   ]
  },
  {
   "cell_type": "code",
   "execution_count": 5,
   "id": "9eabe8d0-d4ce-4f46-9d03-b7d11edef5ac",
   "metadata": {},
   "outputs": [],
   "source": [
    "hosp_geo = gpd.GeoDataFrame(hosp_data, geometry=gpd.points_from_xy(hosp_data.lon, hosp_data.lat), crs=\"EPSG:4326\")"
   ]
  },
  {
   "cell_type": "code",
   "execution_count": 6,
   "id": "a02ee9e5-c330-43a5-8c41-5eca2726928a",
   "metadata": {},
   "outputs": [
    {
     "name": "stdout",
     "output_type": "stream",
     "text": [
      "EPSG:4269\n"
     ]
    }
   ],
   "source": [
    "cali_counties = gpd.read_file(r'tl_2016_06_cousub/tl_2016_06_cousub.shp')\n",
    "cali_outline = cali_counties.dissolve('STATEFP')\n",
    "cali_proj = cali_outline.to_crs('EPSG:5070')\n",
    "print(cali_outline.crs)"
   ]
  },
  {
   "cell_type": "code",
   "execution_count": 7,
   "id": "215a4b97-86f2-4387-8977-321b0fec3391",
   "metadata": {},
   "outputs": [],
   "source": [
    "def dissolve_buff(point_df,d,resolution):\n",
    "    bu = point_df.buffer(d,resolution)\n",
    "    geodf = gpd.GeoDataFrame(geometry=bu)\n",
    "    geodf['Const'] = 0\n",
    "    single = geodf.dissolve('Const')\n",
    "    return single[['geometry']]"
   ]
  },
  {
   "cell_type": "code",
   "execution_count": 8,
   "id": "20497b89-b28e-4ddc-b01b-bf6ccc7eb4cc",
   "metadata": {},
   "outputs": [],
   "source": [
    "def dist_cont(point_df,dist_list,outside,buff_res):\n",
    "    if point_df.crs != outside.crs:\n",
    "        print('Point df and Outside df are not the same CRS')\n",
    "        return None\n",
    "    # Making outside area out dissolved object\n",
    "    out_cop = outside[['geometry']].copy()\n",
    "    out_cop['Constant'] = 1\n",
    "    out_cop = out_cop.dissolve('Constant')\n",
    "    # Make sure points are inside area\n",
    "    inside = point_df.within(out_cop['geometry'][1])\n",
    "    point_cop = point_df[inside].copy()\n",
    "    point_cop = point_df.copy()\n",
    "    point_cop['Constant'] = 1 #Constant for dissolve\n",
    "    point_cop = point_cop[['Constant','geometry']].copy()\n",
    "    res_buffers = []\n",
    "    for i,d in enumerate(dist_list):\n",
    "        print(f'Doing buffer {d}')\n",
    "        if i == 0:\n",
    "            res = dissolve_buff(point_cop, d, buff_res)\n",
    "            res_buffers.append(res.copy())\n",
    "        else:\n",
    "            res_new = dissolve_buff(point_cop, d, buff_res)\n",
    "            res_buffonly = gpd.overlay(res_new, res, how='difference')\n",
    "            res = res_new.copy()\n",
    "            res_buffers.append( res_buffonly.copy() )\n",
    "    # Now take the difference with the larger area\n",
    "    print('Working on leftover difference now')\n",
    "    leftover = gpd.overlay(out_cop, res, how='difference')\n",
    "    res_buffers.append(leftover)\n",
    "    for i,d in enumerate(dist_list):\n",
    "        res_buffers[i]['Distance'] = str(d)\n",
    "    res_buffers[-1]['Distance'] = 'Outside'\n",
    "    # New geopandas DF\n",
    "    comb_df = pd.concat(res_buffers)\n",
    "    comb_df.reset_index(inplace=True, drop=True)\n",
    "    return comb_df"
   ]
  },
  {
   "cell_type": "code",
   "execution_count": 9,
   "id": "815e9e8c-5b47-4087-92da-4b5980f37d38",
   "metadata": {},
   "outputs": [
    {
     "name": "stdout",
     "output_type": "stream",
     "text": [
      "Doing buffer 2000\n",
      "Doing buffer 4000\n",
      "Doing buffer 8000\n",
      "Doing buffer 16000\n",
      "Working on leftover difference now\n"
     ]
    }
   ],
   "source": [
    "hos_proj = hosp_geo.to_crs('EPSG:5070') #'epsg:4269'\n",
    "\n",
    "dist_met = [2000, 4000, 8000, 16000] #, 32000\n",
    "buff_city = dist_cont(hos_proj, dist_met, cali_proj, buff_res=100)"
   ]
  },
  {
   "cell_type": "code",
   "execution_count": 10,
   "id": "c95ec943-a7bd-422e-8f18-616f636783fa",
   "metadata": {},
   "outputs": [],
   "source": [
    "#Now making folium plot\n",
    "buff_map = buff_city.to_crs('EPSG:4326')\n",
    "kv = list(hosp_geo)[1:10]"
   ]
  },
  {
   "cell_type": "code",
   "execution_count": null,
   "id": "a1902ffa-419b-4c1a-9e7f-ba0e3c9767a7",
   "metadata": {},
   "outputs": [],
   "source": [
    "#\"fill\": \"#00aa22\",\n",
    "#\"fill-opacity\": 0.5\n",
    "\n",
    "cols = ['#f1eef6',\n",
    "'#d7b5d8',\n",
    "'#df65b0',\n",
    "'#dd1c77',\n",
    "'#980043']\n",
    "\n",
    "buff_map['fill'] = cols\n",
    "buff_map['fill-opacity'] = 0.35\n",
    "\n",
    "#os.chdir(r'D:\\Dropbox\\Dropbox\\PublicCode_Git\\Blog_Code')\n",
    "\n",
    "buff_map.to_file('Buffers.geojson', driver='GeoJSON')\n",
    "hosp_geo.to_file('Hosp.geojson', driver='GeoJSON')"
   ]
  }
 ],
 "metadata": {
  "kernelspec": {
   "display_name": "Python 3 (ipykernel)",
   "language": "python",
   "name": "python3"
  },
  "language_info": {
   "codemirror_mode": {
    "name": "ipython",
    "version": 3
   },
   "file_extension": ".py",
   "mimetype": "text/x-python",
   "name": "python",
   "nbconvert_exporter": "python",
   "pygments_lexer": "ipython3",
   "version": "3.9.15"
  }
 },
 "nbformat": 4,
 "nbformat_minor": 5
}
